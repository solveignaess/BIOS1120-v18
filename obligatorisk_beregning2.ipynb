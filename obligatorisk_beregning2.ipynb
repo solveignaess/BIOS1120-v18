{
 "cells": [
  {
   "cell_type": "markdown",
   "metadata": {},
   "source": [
    "<!-- dom:TITLE: Beregningsoppgave 2: Membranpotensial -->\n",
    "# Beregningsoppgave 2: Membranpotensial\n",
    "<!-- AUTHOR: Solveig Næss -->\n",
    "\n",
    "<!-- DATE: today -->\n",
    "\n",
    "<!-- TOC: on -->"
   ]
  },
  {
   "cell_type": "markdown",
   "metadata": {},
   "source": [
    "\n"
   ]
  },
  {
   "cell_type": "markdown",
   "metadata": {},
   "source": [
    "<div class=\"alert alert-block alert-info\">\n",
    "Denne beregningsoppgaven skal leveres i grupper på to.\n",
    "Start med å lage en kopi av denne fila: Trykk på File; Make a copy.\n",
    "\n",
    "Endre deretter navnet på kopien til: EtternavnFornavn_EtternavnFornavn_beregning2.ipynb.\n",
    "\n",
    "Denne fila skal leveres på CANVAS: Finn Beregningsoppgave 2 under Membran- og aksjonspotensial.\n",
    "Leveringsfristen er torsdag 22.03, klokka 10.00.\n",
    "\n",
    "For å få innleveringen godkjent må dere svare på oppgave 1, 2 og 3 + oppgave 4 ELLER 5."
   ]
  },
  {
   "cell_type": "markdown",
   "metadata": {},
   "source": [
    "\n"
   ]
  },
  {
   "cell_type": "markdown",
   "metadata": {},
   "source": [
    "<!-- --- begin exercise --- -->\n",
    "\n",
    "## Oppgave 1: Membranpotensial\n",
    "<div id=\"ex:v_mem\"></div>\n",
    "\n",
    "\n",
    "**a)**\n",
    "Dobbeltklikk på teksten under, og fyll inn riktig ord på riktig sted:\n",
    "*ampere*, *spenning*, *konsentrasjoner*,  *membranpotensial*,  *volt*, *strøm*,"
   ]
  },
  {
   "cell_type": "markdown",
   "metadata": {},
   "source": [
    "\n"
   ]
  },
  {
   "cell_type": "markdown",
   "metadata": {},
   "source": [
    "Ulike [----] av ioner inni og utenfor cella skaper en elektrisk spenning over cellemembranen. Denne spenningen kaller vi [----]. Elektrisk potensial betyr det samme som elektrisk [----]. Ordet potensial brukes for å understreke at en oppladet membran har lagret potensiell energi. Elektrisk spenning måles i [----]."
   ]
  },
  {
   "cell_type": "markdown",
   "metadata": {},
   "source": [
    "\n"
   ]
  },
  {
   "cell_type": "markdown",
   "metadata": {},
   "source": [
    "\n",
    "<!-- --- end exercise --- -->\n",
    "\n",
    "\n",
    "\n",
    "\n",
    "<!-- --- begin exercise --- -->\n",
    "\n",
    "## Oppgave 2: Likevektspotensial\n",
    "\n",
    "Likevektspotensialet for kalium er den elektriske spenningen som ville oppstått over membranen til en nervecelle som kun er permeabel for kalium.\n",
    "\n",
    "Vi kaller det likevektspotensial, fordi dette er spenningen som oppstår når diffusjonen av kalium inn i cella vil være nøyaktig like stor som diffusjonen av kalium ut av cella. Her er det ingen aktiv transport av ioner gjennom cellemebranen, men kun passiv transport gjennom lekkasjekanaler.\n",
    "\n",
    "**Ekstracellulære og intracellulære ionekonsentrasjoner:**\n",
    "<table border=\"1\">\n",
    "<thead>\n",
    "<tr><th align=\"center\">      Ion      </th> <th align=\"center\">Ekstracellulær (mM)</th> <th align=\"center\">Intracellulær (mM)</th> </tr>\n",
    "</thead>\n",
    "<tbody>\n",
    "<tr><td align=\"center\">   $\\mathrm{Na^+}$    </td> <td align=\"center\">   145                    </td> <td align=\"center\">   15                    </td> </tr>\n",
    "<tr><td align=\"center\">   $\\mathrm{K^+}$     </td> <td align=\"center\">   4                      </td> <td align=\"center\">   140                   </td> </tr>\n",
    "<tr><td align=\"center\">   $\\mathrm{Cl^-}$    </td> <td align=\"center\">   120                    </td> <td align=\"center\">   7                     </td> </tr>\n",
    "<tr><td align=\"center\">   Andre              </td> <td align=\"center\">   < 1                    </td> <td align=\"center\">   65                    </td> </tr>\n",
    "</tbody>\n",
    "</table>\n",
    "\n",
    "**a)**\n",
    "Hvilke to gradienter driver diffusjon gjennom cellemebranen?"
   ]
  },
  {
   "cell_type": "markdown",
   "metadata": {},
   "source": [
    "        Svar:\n"
   ]
  },
  {
   "cell_type": "markdown",
   "metadata": {},
   "source": [
    "\n",
    "**b)**\n",
    "Hva er det som driver diffusjonen av kalium-ioner inn i cella? Og hva er det som driver ionestrømmen av natrium ut av cella?"
   ]
  },
  {
   "cell_type": "markdown",
   "metadata": {},
   "source": [
    "        Svar:\n"
   ]
  },
  {
   "cell_type": "markdown",
   "metadata": {},
   "source": [
    "\n",
    "\n",
    "Nernst-likningen gir oss likevektspotensialet $E_x$ for én bestemt ionetype $x$."
   ]
  },
  {
   "cell_type": "markdown",
   "metadata": {},
   "source": [
    "<!-- Equation labels as ordinary links -->\n",
    "<div id=\"eq:nernst\"></div>\n",
    "\n",
    "$$\n",
    "\\begin{equation} \\label{eq:nernst} \\tag{1}\n",
    "E_x = \\frac{\\mathrm{C}}{z}\\log_{10}\\frac{[x]_{ute}}{[x]_{inne}},\n",
    "\\end{equation}\n",
    "$$"
   ]
  },
  {
   "cell_type": "markdown",
   "metadata": {},
   "source": [
    "der\n",
    "* $\\mathrm{C} = 60$mV er en konstant\n",
    "\n",
    "* $z$ er ionets ladning (valens)\n",
    "\n",
    "* $[x]_{ute}$ er konsentrasjonen av ionetype $x$ utenfor cella (mM)\n",
    "\n",
    "* $[x]_{inne}$ er konsentrasjonen av ionetype $x$ inni cella (mM)\n",
    "\n",
    "Vi kan skrive Nernst-likningen som en python-funksjon på følgende måte:"
   ]
  },
  {
   "cell_type": "code",
   "execution_count": 1,
   "metadata": {
    "collapsed": false
   },
   "outputs": [],
   "source": [
    "from pylab import *\n",
    "\n",
    "def nernst(z, x_out, x_in):\n",
    "    E = 60/z*log10(x_out/x_in)\n",
    "    return E"
   ]
  },
  {
   "cell_type": "markdown",
   "metadata": {},
   "source": [
    "**c)**\n",
    "Hva er likevektspotensialet til kalium? Bruk tabellen og python-funksjonen over til å regne det ut. (NB: Du må først kjøre kodecellen over før du kan bruke python-funksjonen.)"
   ]
  },
  {
   "cell_type": "code",
   "execution_count": 2,
   "metadata": {
    "collapsed": false
   },
   "outputs": [],
   "source": [
    "# z_K =\n",
    "# c_ut_K =\n",
    "# c_inn_K =\n",
    "# E_K = nernst(z_K, c_ut_K, c_inn_K)\n",
    "# print('Likevektspotensialet for kalium er ', E_K, 'mV.')"
   ]
  },
  {
   "cell_type": "markdown",
   "metadata": {},
   "source": [
    "\n",
    "**d)**\n",
    "Tror dere likevektspotensialet til natrium være positivt eller negativt? Hvorfor?\n",
    "Hva med likevektspotensialet til klorid?"
   ]
  },
  {
   "cell_type": "markdown",
   "metadata": {},
   "source": [
    "        Svar:\n"
   ]
  },
  {
   "cell_type": "markdown",
   "metadata": {},
   "source": [
    "\n",
    "**e)**\n",
    "Bruk python-funksjonen til å regne ut likevektspotensialet til natrium og klorid. Stemmer disse overens med konklusjonen i forrige deloppgave? Hvis ikke, finn ut hva som var feil med resonnementet deres og korriger svaret i oppgave 2d."
   ]
  },
  {
   "cell_type": "code",
   "execution_count": 4,
   "metadata": {
    "collapsed": false
   },
   "outputs": [],
   "source": [
    "#Gjør utregningen her"
   ]
  },
  {
   "cell_type": "markdown",
   "metadata": {},
   "source": [
    "\n",
    "<!-- --- end exercise --- -->\n",
    "\n",
    "\n",
    "\n",
    "\n",
    "<!-- --- begin exercise --- -->\n",
    "\n",
    "## Oppgave 3: Hvilepotensial\n",
    "\n",
    "\n",
    "**a)**\n",
    "Hva er forskjellen på likevektspotensial og hvilepotensial?"
   ]
  },
  {
   "cell_type": "markdown",
   "metadata": {},
   "source": [
    "        Svar:\n"
   ]
  },
  {
   "cell_type": "markdown",
   "metadata": {},
   "source": [
    "\n",
    "Når vi skal regne ut hvilepotensialet til en celle, trenger vi en likning som likner veldig på Nernst-likningen, men som er noe mer komplisert. Denne heter Goldman-Hodgkin-Katz, og ser slik ut:"
   ]
  },
  {
   "cell_type": "markdown",
   "metadata": {},
   "source": [
    "$$\n",
    "E_m = \\mathrm{C} \\log_{10}{\\frac{P_{Na+}[Na+]_{ute} + P_{K+}[K+]_{ute} + P_{Cl-}[Cl-]_{inne}}{P_{Na+}[Na+]_{inne} + P_{K+}[K+]_{inne} + P_{Cl-}[Cl-]_{ute}}}\n",
    "$$"
   ]
  },
  {
   "cell_type": "markdown",
   "metadata": {},
   "source": [
    "Her er $P_{x}$ cellemembranens permeabilitet for ionetype $x$. Dvs hvor lett det er for ion $x$ å slippe gjennom membranen når kun passive lekkasjekanaler, og ingen aktive kanaler, er åpne. En nervecelle har vanligvis følgende permeabiliteter: $P_{Na} = 1$, $P_{Cl} = 9$ og $P_{K} = 20$.\n",
    "\n",
    "Kodecellen under gir oss Goldman-Hodgkin-Katz-likningen som en python-funksjon.\n",
    "\n",
    "<div class=\"alert alert-block alert-info\">\n",
    "Kjør kodecellen under."
   ]
  },
  {
   "cell_type": "code",
   "execution_count": 6,
   "metadata": {
    "collapsed": false
   },
   "outputs": [],
   "source": [
    "from pylab import *\n",
    "from ipywidgets import widgets, fixed\n",
    "def ghk(p_Na, p_K, p_Cl,\n",
    "        c_out_Na, c_out_K, c_out_Cl,\n",
    "        c_in_Na, c_in_K, c_in_Cl):\n",
    "    E_m = 60*log10((p_Na*c_out_Na + p_K*c_out_K + p_Cl*c_in_Cl)/(p_Na*c_in_Na + p_K*c_in_K + p_Cl*c_out_Cl))\n",
    "    return E_m\n",
    "\n",
    "slider = widgets.interact(ghk,\n",
    "                          p_Na=widgets.IntSlider(min=1., max=30., step=1., value=1.),\n",
    "                          p_K=widgets.IntSlider(min=1., max=30., step=1., value=20.),\n",
    "                          p_Cl=widgets.IntSlider(min=1., max=30., step=1., value=9.),\n",
    "                          c_out_Na=widgets.IntSlider(min=1., max=160., step=1., value=1.),\n",
    "                          c_out_K=widgets.IntSlider(min=1., max=160., step=1., value=1.),\n",
    "                          c_out_Cl=widgets.IntSlider(min=1., max=160., step=1., value=1.),\n",
    "                          c_in_Na=widgets.IntSlider(min=1., max=160., step=1., value=1.),\n",
    "                          c_in_K=widgets.IntSlider(min=1., max=160., step=1., value=1.),\n",
    "                          c_in_Cl=widgets.IntSlider(min=1., max=160., step=1., value=1.)\n",
    "                          )"
   ]
  },
  {
   "cell_type": "markdown",
   "metadata": {},
   "source": [
    "**b)**\n",
    "Hva er hvilepotensialet for en nervecelle med konsentrasjoner som gitt i tabellen over, og følgende permeabiliteter: $P_{Na+} = 1$, $P_{K+} = 20$, $P_{Cl-} = 9$? Bruk sliderne over."
   ]
  },
  {
   "cell_type": "markdown",
   "metadata": {},
   "source": [
    "        Svar:\n"
   ]
  },
  {
   "cell_type": "markdown",
   "metadata": {},
   "source": [
    "\n",
    "**c)**\n",
    "Hvilken ionetype er viktigst for å sette opp hvilemembranpotensialet?"
   ]
  },
  {
   "cell_type": "markdown",
   "metadata": {},
   "source": [
    "        Svar:\n"
   ]
  },
  {
   "cell_type": "markdown",
   "metadata": {},
   "source": [
    "\n",
    "**d)**\n",
    "Valium øker permeabiliteten for klorid. Hva skjer med cellens evne til å fyre et aksjonspotensial hvis du tar valium?"
   ]
  },
  {
   "cell_type": "markdown",
   "metadata": {},
   "source": [
    "        Svar:\n"
   ]
  },
  {
   "cell_type": "markdown",
   "metadata": {},
   "source": [
    "\n",
    "<!-- !bsubex -->\n",
    "<!-- Den elektriske feltstyrken som skal til for å bevege et hårstrå (statisk elektrisitet) er ca $100$ V/cm. -->\n",
    "<!-- Vi kan finne den elektriske feltstyrke inni cellemembranen ved å dele membranpotensialet på tykkelsen til cellemembranen. Hvor stor er feltstyrken inni cellemembranen ved hvilepotensial? Cellemembranen er ca $4$ nm tykk. -->\n",
    "<!--  -->\n",
    "<!-- !bc -->\n",
    "<!-- Svar: -->\n",
    "<!-- !ec -->\n",
    "<!--  -->\n",
    "<!-- !bsol -->\n",
    "<!-- Feltstyrken inni cellemembranen er ca $100 000$ V/cm. Dvs $1000$ ganger så sterk som den elektriske feltstyrken som skal til for å bevege et hårstrå. -->\n",
    "<!-- !esol -->\n",
    "<!--  -->\n",
    "<!-- !esubex -->\n",
    "\n",
    "**e)**\n",
    "Ved dødsstraff i USA har en dødelig injeksjon av kalium vært brukt. Hva skjer med hvilepotensialet dersom konsentrasjonen av ekstracellulært kalium økes til $7$mM?"
   ]
  },
  {
   "cell_type": "code",
   "execution_count": 8,
   "metadata": {
    "collapsed": false
   },
   "outputs": [],
   "source": [
    "# Svar:"
   ]
  },
  {
   "cell_type": "markdown",
   "metadata": {},
   "source": [
    "\n",
    "\n",
    "<div class=\"alert alert-block alert-info\">\n",
    "NB: Gjør enten oppgave 4 eller 5."
   ]
  },
  {
   "cell_type": "markdown",
   "metadata": {},
   "source": [
    "\n"
   ]
  },
  {
   "cell_type": "markdown",
   "metadata": {},
   "source": [
    "<!-- --- end exercise --- -->\n",
    "\n",
    "\n",
    "\n",
    "\n",
    "<!-- --- begin exercise --- -->\n",
    "\n",
    "## Oppgave 4: Aksjonspotensial (lag en egen python-funksjon)\n",
    "\n",
    "\n",
    "**a)**\n",
    "På laben har dere regnet ut ledningshastigheten til et aksjonspotensial langs et myelinert akson.\n",
    "Her er noen av verdiene dere fikk:"
   ]
  },
  {
   "cell_type": "code",
   "execution_count": 10,
   "metadata": {
    "collapsed": false
   },
   "outputs": [],
   "source": [
    "v = array([64.3, 28.08, 43.63, 45.2, 41.3, 51.6, 42.0, 37.69, 50.2, 35.95, 42.72, 55])"
   ]
  },
  {
   "cell_type": "markdown",
   "metadata": {},
   "source": [
    "Beregn ledningshastigheten langs et myelinert akson ved å finne gjennomsnittet av målingene."
   ]
  },
  {
   "cell_type": "code",
   "execution_count": 11,
   "metadata": {
    "collapsed": false
   },
   "outputs": [],
   "source": [
    "Svar:"
   ]
  },
  {
   "cell_type": "markdown",
   "metadata": {},
   "source": [
    "\n",
    "\n",
    "**b)**\n",
    "Lag en python-funksjon som regner ut hvor langt *s* et aksjonspotensial kan forflytte seg med farten *v* langs et myelinert akson i løpet av tiden $t$."
   ]
  },
  {
   "cell_type": "code",
   "execution_count": 13,
   "metadata": {
    "collapsed": false
   },
   "outputs": [],
   "source": [
    "# skriv funksjonen her"
   ]
  },
  {
   "cell_type": "markdown",
   "metadata": {},
   "source": [
    "\n",
    "\n",
    "**c)**\n",
    "Bruk ledningshastigheten dere regnet ut i oppgave 4a og lag et plott som viser strekningen aksjonspotensialet kan forflytte seg som funksjon av tid."
   ]
  },
  {
   "cell_type": "code",
   "execution_count": 15,
   "metadata": {
    "collapsed": false
   },
   "outputs": [],
   "source": [
    "# lag plottet her"
   ]
  },
  {
   "cell_type": "markdown",
   "metadata": {},
   "source": [
    "\n",
    "**d)**\n",
    "Et umyelinert akson har en ledningshastighet på $\\approx 1$ m/s. Lag en figur som viser strekningen aksjonspotensialet forflytter seg langs et umyelinert akson som funksjon av tiden."
   ]
  },
  {
   "cell_type": "code",
   "execution_count": 17,
   "metadata": {
    "collapsed": false
   },
   "outputs": [],
   "source": [
    "# lag plottet her"
   ]
  },
  {
   "cell_type": "markdown",
   "metadata": {},
   "source": [
    "\n",
    "**e)**\n",
    "Hvor mye lenger kan et aksjonspotensial forflytte seg på $0.1$s i et myelinert akson enn i et umyelinert akson?"
   ]
  },
  {
   "cell_type": "markdown",
   "metadata": {},
   "source": [
    "        Svar:\n"
   ]
  },
  {
   "cell_type": "markdown",
   "metadata": {},
   "source": [
    "\n",
    "\n",
    "\n",
    "<!-- --- end exercise --- -->\n",
    "\n",
    "\n",
    "\n",
    "\n",
    "<!-- --- begin exercise --- -->\n",
    "\n",
    "## Oppgave 5: Aksjonspotensial\n",
    "\n",
    "\n",
    "**a)**\n",
    "På laben har dere regnet ut ledningshastigheten til et aksjonspotensial langs et myelinert akson.\n",
    "Her er noen av verdiene dere fikk:"
   ]
  },
  {
   "cell_type": "code",
   "execution_count": 19,
   "metadata": {
    "collapsed": false
   },
   "outputs": [],
   "source": [
    "v = array([64.3, 28.08, 43.63, 45.2, 41.3, 51.6, 42.0, 37.69, 50.2, 35.95, 42.72, 55])"
   ]
  },
  {
   "cell_type": "markdown",
   "metadata": {},
   "source": [
    "Beregn ledningshastigheten langs et myelinert akson ved å finne gjennomsnittet av målingene."
   ]
  },
  {
   "cell_type": "code",
   "execution_count": 20,
   "metadata": {
    "collapsed": false
   },
   "outputs": [],
   "source": [
    "Svar:"
   ]
  },
  {
   "cell_type": "markdown",
   "metadata": {},
   "source": [
    "\n",
    "**b)**\n",
    "Skriv opp en formel som regner ut hvor lang strekning **s** aksjonspotensialet beveger seg  i løpet av tiden **t** med en fart **v**."
   ]
  },
  {
   "cell_type": "markdown",
   "metadata": {},
   "source": [
    "        Svar:\n"
   ]
  },
  {
   "cell_type": "markdown",
   "metadata": {},
   "source": [
    "\n",
    "**c)**\n",
    "Et umyelinert akson har en ledningshastighet på ca $1$m/s. Hvis dere tegner opp en graf som viser strekningen tilbakelagt av aksjonspotensialet som funksjon av tid. Vil grafen for myelinert eller umyelinert akson ha høyest stigningstall?"
   ]
  },
  {
   "cell_type": "markdown",
   "metadata": {},
   "source": [
    "        Svar:\n"
   ]
  },
  {
   "cell_type": "markdown",
   "metadata": {},
   "source": [
    "\n",
    "**d)**\n",
    "Hvor mye lenger kan et aksjonspotensial forflytte seg på $0.1$s i et myelinert akson enn i et umyelinert akson?"
   ]
  },
  {
   "cell_type": "markdown",
   "metadata": {},
   "source": [
    "        Svar:\n"
   ]
  },
  {
   "cell_type": "markdown",
   "metadata": {},
   "source": [
    "\n",
    "<!-- --- end exercise --- -->"
   ]
  }
 ],
 "metadata": {},
 "nbformat": 4,
 "nbformat_minor": 2
}