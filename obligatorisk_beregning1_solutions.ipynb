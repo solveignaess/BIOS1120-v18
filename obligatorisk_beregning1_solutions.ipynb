{
 "cells": [
  {
   "cell_type": "markdown",
   "metadata": {},
   "source": [
    "<!-- dom:TITLE: Beregningsoppgave 1: Sirkulasjon -->\n",
    "# Beregningsoppgave 1: Sirkulasjon\n",
    "<!-- AUTHOR: Solveig Næss -->\n",
    "\n",
    "<!-- DATE: today -->\n",
    "\n",
    "<!-- TOC: on -->"
   ]
  },
  {
   "cell_type": "markdown",
   "metadata": {},
   "source": [
    "\n"
   ]
  },
  {
   "cell_type": "markdown",
   "metadata": {},
   "source": [
    "<div class=\"alert alert-block alert-info\">\n",
    "Denne beregningsoppgaven skal leveres i grupper på to.\n",
    "Start med å lage en kopi av denne fila: Trykk på File; Make a copy.\n",
    "\n",
    "Endre deretter navnet på kopien til: EtternavnFornavn_EtternavnFornavn_beregning1.ipynb. \n",
    "Dersom dere heter Harry Potter og Isaac Newton, skal filnavnet altså være: PotterHarry_NewtonIsaac_beregning1.ipynb\n",
    "\n",
    "Denne fila skal leveres på CANVAS under Beregning1: Sirkulasjon.\n",
    "Leveringsfristen er 20.02, klokka 10.00.\n",
    "\n",
    "For å få innleveringen godkjent må dere svare på oppgave 1 og 2 + oppgave 3 ELLER 4."
   ]
  },
  {
   "cell_type": "markdown",
   "metadata": {},
   "source": [
    "\n"
   ]
  },
  {
   "cell_type": "markdown",
   "metadata": {},
   "source": [
    "**Etter at dere har gjort denne oppgaven skal dere kunne forklare**\n",
    "* sammenhengen mellom blodstrøm, blodtrykksendring og motstand i en blodåre\n",
    "\n",
    "* hvordan viskositet, lengde og radius påvirker blodstrøm og blodtrykksendring i en blodåre\n",
    "\n",
    "\n",
    "\n",
    "\n",
    "\n",
    "<!-- --- begin exercise --- -->\n",
    "\n",
    "## Oppgave 1: Blodstrøm, blodtrykksendring og motstand\n",
    "<div id=\"ex:flow\"></div>\n",
    "\n",
    "I kapittel 43 kan dere lese om hvordan blodstrøm i en blodåre er avhengig av\n",
    "blodtrykksendring og motstand i åren. Dette kan beskrives av\n",
    "Pouiseuille-likningen:"
   ]
  },
  {
   "cell_type": "markdown",
   "metadata": {},
   "source": [
    "<!-- Equation labels as ordinary links -->\n",
    "<div id=\"eq:flow\"></div>\n",
    "\n",
    "$$\n",
    "\\begin{equation} \\label{eq:flow} \\tag{1}\n",
    "q_v = \\frac{\\Delta p}{R},\n",
    "\\end{equation}\n",
    "$$"
   ]
  },
  {
   "cell_type": "markdown",
   "metadata": {},
   "source": [
    "* $q_v$ er blodets volumstrøm (blodstrøm eller flow) og måles i kubikkmeter per sekund ($\\mathrm{m^3/s}$) eller liter per minutt ($\\mathrm{l/min}$).\n",
    "\n",
    "* $\\Delta p$ er blodtrykksendringen i åren og måles i pascal ($\\mathrm{Pa}$) eller millimeter kvikksølv ($\\mathrm{mmHg}$).\n",
    "\n",
    "* $R$ er motstanden i blodåren og måles i $\\mathrm{Pa \\cdot s/m^3}$ eller $\\mathrm{mmHg \\cdot min/l}$.\n",
    "\n",
    "**a)**\n",
    "Bruk formelen over og diskuter to og to:\n",
    "* Hva vil skje med blodstrømmen dersom blodtrykksendringen øker?\n",
    "\n",
    "* Hva vil skje med blodstrømmen dersom motstanden i blodåren øker?\n",
    "\n",
    "<div class=\"alert alert-block alert-info\">\n",
    "I oppgave b) og c) skal dere bruke kodecellen (den grå boksen) nedenfor\n",
    "til å svare på spørsmålene.\n",
    "* Kan dere finne den kodelinjen der blodstrømmen regnes ut?\n",
    "\n",
    "* For å kjøre programmet i kodecellen kan dere trykke på cellen slik at den får en grønn ramme. Trykk deretter shift+enter eller velg \"Run\" (play) i menyen øverst på siden."
   ]
  },
  {
   "cell_type": "code",
   "execution_count": 3,
   "metadata": {
    "collapsed": false
   },
   "outputs": [
    {
     "data": {
      "image/png": "[encoded data removed]",
      "text/plain": [
       "<matplotlib.figure.Figure at 0x115d93ac8>"
      ]
     },
     "metadata": {},
     "output_type": "display_data"
    }
   ],
   "source": [
    "from ipywidgets import widgets, fixed\n",
    "from pylab import *\n",
    "\n",
    "def flow(R):\n",
    "    delta_p = array([80, 90, 100, 110, 120, 130, 140])\n",
    "    q_v = delta_p/R\n",
    "    plot(delta_p, q_v)\n",
    "    xlabel(r'$\\Delta p  (mmHg)$', fontsize=20)\n",
    "    ylabel(r'$q_v  (l/min)$', fontsize=20)\n",
    "    ylim([0.08, 8])\n",
    "    show()\n",
    "\n",
    "slider = widgets.interact(flow,\n",
    "                          R=widgets.IntSlider(description='R (mmHg min/l)', min=20., max=100., step=10., value=20.)\n",
    "                          )"
   ]
  },
  {
   "cell_type": "markdown",
   "metadata": {},
   "source": [
    "**b)**\n",
    "Hvordan endres blodstrømmen når blodtrykksendringen i blodåren øker? Bruk grafen.\n",
    "(Skriv svaret under ved å dobbeltklikke på \"Svar:\".)"
   ]
  },
  {
   "cell_type": "markdown",
   "metadata": {},
   "source": [
    "        Svar:\n"
   ]
  },
  {
   "cell_type": "markdown",
   "metadata": {},
   "source": [
    "<!-- --- begin solution of exercise --- -->\n",
    "**Løsning.**\n",
    "Blodstrømmen er proporsjonal med blodtrykksendringen. Økt blodtrykksendring\n",
    "fører til økt blodstrøm.\n",
    "\n",
    "<!-- --- end solution of exercise --- -->\n",
    "\n",
    "**c)**\n",
    "Hvordan endres blodstrømmen dersom motstanden i blodåren øker?\n",
    "Dere kan endre på motstanden $R$ ved å bevege slideren over plottet."
   ]
  },
  {
   "cell_type": "markdown",
   "metadata": {},
   "source": [
    "        Svar:\n"
   ]
  },
  {
   "cell_type": "markdown",
   "metadata": {},
   "source": [
    "<!-- --- begin solution of exercise --- -->\n",
    "**Løsning.**\n",
    "Blodstrømmen er omvendt proporsjonal med motstanden.\n",
    "Økt motstand i blodåren fører til lavere blodstrøm.\n",
    "\n",
    "<!-- --- end solution of exercise --- -->\n",
    "\n",
    "\n",
    "Stemte dette overens med det dere kom fram til i Oppgave 1a?\n",
    "\n",
    "<!-- --- end exercise --- -->\n",
    "\n",
    "\n",
    "\n",
    "\n",
    "<!-- --- begin exercise --- -->\n",
    "\n",
    "## Oppgave 2: Hva påvirker blodårens motstand?\n",
    "\n",
    "Under har vi en formel som beskriver hvordan motstanden mot blodstrøm i åren\n",
    "avhenger av ulike parametere."
   ]
  },
  {
   "cell_type": "markdown",
   "metadata": {},
   "source": [
    "<!-- Equation labels as ordinary links -->\n",
    "<div id=\"eq:R\"></div>\n",
    "\n",
    "$$\n",
    "\\begin{equation} \\label{eq:R} \\tag{2}\n",
    "R = \\frac{8 \\eta l}{\\pi r^4},\n",
    "\\end{equation}\n",
    "$$"
   ]
  },
  {
   "cell_type": "markdown",
   "metadata": {},
   "source": [
    "der $\\eta$ (gresk: eta) er blodets viskositet, $l$ er blodårens lengde og $r$ er blodårens radius.\n",
    "\n",
    "\n",
    "**a)**\n",
    "Hva vil gi størst endring i blodårens motstand $R$?\n",
    "* dobling av viskositeten\n",
    "\n",
    "* dobling av lengden\n",
    "\n",
    "* dobling/ halvering av radien"
   ]
  },
  {
   "cell_type": "markdown",
   "metadata": {},
   "source": [
    "        Svar:\n"
   ]
  },
  {
   "cell_type": "markdown",
   "metadata": {},
   "source": [
    "<!-- --- begin solution of exercise --- -->\n",
    "**Løsning.**\n",
    "Noen av dere har fått en tidlig utgave av oppgaven der dere har blitt bedt om å\n",
    "se på en \"dobling av radien\". Andre har fått oppdatert versjon av oppgaven,\n",
    "der det har stått \"halvering av radien\".\n",
    "\n",
    "**Halvering av radien**\n",
    "\n",
    "Hvis vi ser på halvering av radien får vi følgende resultat:"
   ]
  },
  {
   "cell_type": "markdown",
   "metadata": {},
   "source": [
    "$$\n",
    "\\begin{align*}\n",
    "R_1 &= \\frac{8 \\eta l}{\\pi r^4}\\\\\n",
    "R_{2l} &= \\frac{8 \\eta 2 l}{\\pi r^4} = 2R_1 \\\\\n",
    "R_{2\\eta} &= \\frac{8 \\cdot 2 \\eta l}{\\pi r^4} = 2R_1 \\\\\n",
    "R_{1/2r} &= \\frac{8 \\eta l}{\\pi (\\frac{1}{2} r)^4} = 16R_1\n",
    "\\end{align*}\n",
    "$$"
   ]
  },
  {
   "cell_type": "markdown",
   "metadata": {},
   "source": [
    "En halvering av blodårens radius vil gi en motstand som er $16$ ganger så stor\n",
    "som tidligere motstand. Dobling av lengde eller viskositet vil føre til en\n",
    "dobling av motstand. Endring av radius vil altså gi størst endring i motstanden.\n",
    "\n",
    "**Dobling av radien**\n",
    "\n",
    "**NB:** Denne formuleringen kan være litt forvirrende, og tydeliggjør ikke poenget\n",
    " med oppgaven. De som har gjort denne versjonen har ikke fått trekk for oppgave\n",
    " 2a eller 2b.\n",
    "\n",
    "Når vi dobler lengden til blodåren eller viskositeten til blodet, ser vi på\n",
    "endringer som bidrar til *økt* motstand, siden $\\eta$ og $l$ står over brøkstreken.\n",
    "En dobling av radien, vil derimot føre til en *redusert* motstand,\n",
    "siden $r$ står under brøkstreken. Disse endringene er dermed ikke\n",
    "\"likestilte\", siden de to første fører til en økning,\n",
    "mens den siste fører til en redusering av motstanden.\n",
    "\n",
    "Dersom vi følger samme framgangsmåte som over, får vi at:"
   ]
  },
  {
   "cell_type": "markdown",
   "metadata": {},
   "source": [
    "$$\n",
    "\\begin{align*}\n",
    "R_1 &= \\frac{8 \\eta l}{\\pi r^4}\\\\\n",
    "R_{2l} &= \\frac{8 \\eta 2 l}{\\pi r^4} = 2R_1 \\\\\n",
    "R_{2\\eta} &= \\frac{8 \\cdot 2 \\eta l}{\\pi r^4} = 2R_1 \\\\\n",
    "R_{2r} &= \\frac{8 \\eta l}{\\pi (2r)^4} = \\frac{1}{16}R_1\n",
    "\\end{align*}\n",
    "$$"
   ]
  },
  {
   "cell_type": "markdown",
   "metadata": {},
   "source": [
    "Dobling av $l$ og $\\eta$\n",
    "fører til en endring i motstand på $100$%:"
   ]
  },
  {
   "cell_type": "markdown",
   "metadata": {},
   "source": [
    "$$\n",
    "\\begin{align*}\n",
    "\\Delta R &= R_2 - R_1 = R_1 \\\\\n",
    "\\mathrm{Prosentvis ~~ endring} &= \\frac{\\Delta R}{R_1} \\cdot 100 \\%\\\\\n",
    "&=\\frac{R_1}{R_1} \\cdot 100 \\% \\\\\n",
    "&= 100 \\%\n",
    "\\end{align*}\n",
    "$$"
   ]
  },
  {
   "cell_type": "markdown",
   "metadata": {},
   "source": [
    "Dobling av $r$ fører til en endring i motstand på $93.75$%:"
   ]
  },
  {
   "cell_type": "markdown",
   "metadata": {},
   "source": [
    "$$\n",
    "\\begin{align*}\n",
    "\\Delta R &= |R_{2r} - R_1| = |\\frac{1}{16}R_1 - R_1| = \\frac{15}{16}R_1 \\\\\n",
    "\\mathrm{Prosentvis endring} &= \\frac{\\Delta R}{R_1} \\cdot 100 \\% \\\\\n",
    "&=\\frac{15/16 R_1}{R_1} \\cdot 100 \\% \\\\\n",
    "&= 93.75 \\%\n",
    "\\end{align*}\n",
    "$$"
   ]
  },
  {
   "cell_type": "markdown",
   "metadata": {},
   "source": [
    "Når dere gjorde oppgave 2b) fikk dere altså at en dobling av radien ga en mindre\n",
    "faktisk endring i motstand, enn det en dobling av lengde og viskositet gjorde.\n",
    "Dette er fordi en øking av radius bidrar til en lavere motstand, mens en øking\n",
    "av lengde og viskositet fører til en høyere motstand. Fordi $r$ står under\n",
    "brøkstreken, vil en øking av $r$ aldri kunne gi en motstandsendring som er\n",
    "større enn maksimalt $99.999$...%.\n",
    "For å kunne sammenlikne endring i motstand ved å endre radius, lengde og radius,\n",
    "burde oppgaven gått ut på å gjøre endringer som kun bidrar til økt motstand, eller kun redusert\n",
    "motstand. Hvis vi gjør dette, ser vi at en endring av radien vil gi størst endringer\n",
    "i motstand. Se løsning over med \"halvering av radien\".\n",
    "\n",
    "<!-- --- end solution of exercise --- -->\n",
    "\n",
    "\n",
    "\n",
    "<div class=\"alert alert-block alert-info\">\n",
    "Kjør kodecellen nedenfor.\n",
    "\n",
    "Koden bruker følgende enheter:\n",
    "\n",
    "$[\\eta] = \\mathrm{m Pa ~ s}$\n",
    "\n",
    "$[l] = \\mathrm{mm}$\n",
    "\n",
    "$[r] = \\mathrm{mm}$\n",
    "\n",
    "$[R] = \\mathrm{mmHg ~ min/l}$"
   ]
  },
  {
   "cell_type": "code",
   "execution_count": 4,
   "metadata": {
    "collapsed": false
   },
   "outputs": [
    {
     "name": "stdout",
     "output_type": "stream",
     "text": [
      "R (mmHg min/l) : \n"
     ]
    },
    {
     "data": {
      "text/plain": [
       "9825.187195571478"
      ]
     },
     "metadata": {},
     "output_type": "display_data"
    }
   ],
   "source": [
    "def resistance(eta, r, l):\n",
    "    c_1 = 1e-3 #from mPa to Pa\n",
    "    eta *= c_1\n",
    "    c_2 = 1e-3 #from mm to m\n",
    "    l *= c_2\n",
    "    r *= c_2\n",
    "    R = (8*eta*l)/(pi*(r)**4)\n",
    "    c_3 = 760.*1e-3/(101.325*1e3*60) #from Pa s/m^3 to mmHG min/l\n",
    "    R *= c_3\n",
    "    print('R (mmHg min/l) : ')\n",
    "    return R\n",
    "\n",
    "slider = widgets.interact(resistance,\n",
    "                          eta=widgets.FloatSlider(description='$\\eta$ (mPas)', min=2., max=4., step=0.1, value=2.5),\n",
    "                          r=widgets.FloatSlider(description='r (mm)', min=0.1, max=10., step=0.1, value=0.3),\n",
    "                          l=widgets.FloatSlider(description='l (mm)', min=1., max=300., step=1., value=100.)\n",
    "                         )"
   ]
  },
  {
   "cell_type": "markdown",
   "metadata": {},
   "source": [
    "**b)**\n",
    "Stemte hypotesen deres i oppgave a? Bruk sliderne og test."
   ]
  },
  {
   "cell_type": "markdown",
   "metadata": {},
   "source": [
    "        Svar:\n"
   ]
  },
  {
   "cell_type": "markdown",
   "metadata": {},
   "source": [
    "<!-- --- begin solution of exercise --- -->\n",
    "**Løsning.**\n",
    "Se løsning i oppgave a).\n",
    "\n",
    "<!-- --- end solution of exercise --- -->\n",
    "\n",
    "\n",
    "**c)**\n",
    "Vil det være størst motstand mot blodstrøm i aorta eller en tynn arteriole?"
   ]
  },
  {
   "cell_type": "markdown",
   "metadata": {},
   "source": [
    "        Svar:\n"
   ]
  },
  {
   "cell_type": "markdown",
   "metadata": {},
   "source": [
    "<!-- --- begin solution of exercise --- -->\n",
    "**Løsning.**\n",
    "Aorta har en radius på ca $10 \\mathrm{mm}$ og er ca $30 \\mathrm{cm}$ lang,\n",
    "mens en tynn arteriole har en radius på ca $0.1 \\mathrm{mm}$\n",
    "og er ca $1 \\mathrm{mm}$ lang. Viskositeten i blodet er konstant.\n",
    "Aorta er altså ca 300 ganger så lang og 100 ganger så tykk som arteriolen.\n",
    "Lengden vil bidra til en 300 ganger høyere motstand i aorta, mens radien vil\n",
    "bidra til en $1/100^4 = 10^{-8}$ ganger lavere motstand. Aorta har altså en\n",
    "motstand som tilsvarer $300/100^4 = 3*10^{-6} = 3$ milliondeler av motstanden\n",
    "i arteriolen.\n",
    "\n",
    "<!-- --- end solution of exercise --- -->\n",
    "\n",
    "\n",
    "**d)**\n",
    "I kroppen er to av variablene $\\eta$, $l$ og $r$ relativt konstante.\n",
    "Én av variablene reguleres i kroppen for å øke blodstrømmen, hvilken variabel er\n",
    " dette?"
   ]
  },
  {
   "cell_type": "markdown",
   "metadata": {},
   "source": [
    "        Svar:\n"
   ]
  },
  {
   "cell_type": "markdown",
   "metadata": {},
   "source": [
    "<!-- --- begin solution of exercise --- -->\n",
    "**Løsning.**\n",
    "Årene kan regulere tykkelsen for å regulere blodstrømmen. Se Campbell. Blodårens\n",
    "lengde og blodets viskositet er relativt konstante under normale omstendigheter.\n",
    "\n",
    "<!-- --- end solution of exercise --- -->\n",
    "\n",
    "**e)**\n",
    "I denne [videoen](https://www.youtube.com/watch?v=4WvnjCkLbvY), kan dere se hvordan\n",
    "giften til en Russels hoggorm vil påvirke blodstrømmen til et uheldig bytte."
   ]
  },
  {
   "cell_type": "markdown",
   "metadata": {},
   "source": [
    "\n"
   ]
  },
  {
   "cell_type": "markdown",
   "metadata": {},
   "source": [
    "<div class=\"alert alert-block alert-info\">\n",
    "Velg enten oppgave 3 eller oppgave 4."
   ]
  },
  {
   "cell_type": "markdown",
   "metadata": {},
   "source": [
    "\n"
   ]
  },
  {
   "cell_type": "markdown",
   "metadata": {},
   "source": [
    "<!-- --- end exercise --- -->\n",
    "\n",
    "\n",
    "\n",
    "\n",
    "<!-- --- begin exercise --- -->\n",
    "\n",
    "## Oppgave 3: Sant eller usant?\n",
    "\n",
    "Bruk likningene og pythonprogrammene ovenfor til å avgjøre om følgende påstander\n",
    "er sanne eller usanne.\n",
    "\n",
    "\n",
    "**a)**\n",
    "En blodåre har konstant viskositet, radius og lengde.\n",
    "Hvis blodstrømmen minker, vil blodtrykksendringen i blodåren øke."
   ]
  },
  {
   "cell_type": "markdown",
   "metadata": {},
   "source": [
    "        Svar:\n"
   ]
  },
  {
   "cell_type": "markdown",
   "metadata": {},
   "source": [
    "<!-- --- begin solution of exercise --- -->\n",
    "**Løsning.**\n",
    "Blodstrømmen er proporsjonal med blodtrykksendringen. $q_v$ og $\\Delta p$\n",
    "vil øke og minke proporsjonalt når motstanden er konstant. *Usant*.\n",
    "\n",
    "<!-- --- end solution of exercise --- -->\n",
    "\n",
    "\n",
    "**b)**\n",
    "Hvis viskositeten til blodet minker vil blodtrykket minke når blodstrøm,\n",
    "radius og lengde i blodåren er konstant."
   ]
  },
  {
   "cell_type": "markdown",
   "metadata": {},
   "source": [
    "        Svar:\n"
   ]
  },
  {
   "cell_type": "markdown",
   "metadata": {},
   "source": [
    "<!-- --- begin solution of exercise --- -->\n",
    "**Løsning.**\n",
    "Hvis viskositeten minker vil motstanden minke. Blodtrykksendring er proporsjonal\n",
    "med blodstrøm. Blodtrykksendring vil minke når viskositeten minker. *Sant*\n",
    "\n",
    "<!-- --- end solution of exercise --- -->\n",
    "\n",
    "\n",
    "**c)**\n",
    "Hvis radien i en blodåre dobles, blodtrykksendringen halveres, viskositeten dobles,\n",
    "og blodårens lengde er konstant vil blodstrømmen firedobles."
   ]
  },
  {
   "cell_type": "markdown",
   "metadata": {},
   "source": [
    "        Svar:\n"
   ]
  },
  {
   "cell_type": "markdown",
   "metadata": {},
   "source": [
    "<!-- --- begin solution of exercise --- -->\n",
    "**Løsning.**"
   ]
  },
  {
   "cell_type": "markdown",
   "metadata": {},
   "source": [
    "$$\n",
    "\\begin{align*}\n",
    "q_{v 1} &= \\frac{\\Delta p}{R} = \\frac{\\pi r^4 \\Delta p}{8 \\eta l} \\\\\n",
    "q_{v 2} &= \\frac{\\pi (2r)^4 0.5\\Delta p}{8 2\\eta l} \\\\\n",
    "     &= \\frac{16 \\cdot 0.5}{2} \\frac{\\pi r^4 \\Delta p}{8 \\eta l} \\\\\n",
    "     &= 4 \\frac{\\pi r^4 \\Delta p}{8 \\eta l} \\\\\n",
    "     &= 4 q_{v 1}\n",
    "\\end{align*}\n",
    "$$"
   ]
  },
  {
   "cell_type": "markdown",
   "metadata": {},
   "source": [
    "*Sant*.\n",
    "\n",
    "<!-- --- end solution of exercise --- -->\n",
    "\n",
    "\n",
    "<!-- --- end exercise --- -->\n",
    "\n",
    "\n",
    "\n",
    "\n",
    "<!-- --- begin exercise --- -->\n",
    "\n",
    "## Oppgave 4: Lag en egen pythonfunksjon\n",
    "\n",
    "I denne oppgaven skal dere bruke likningene og oppgavene over til å lage en\n",
    "pythonfunksjon som tar blodstrøm, viskositet, radius og lengde som argumenter,\n",
    "og regner ut blodtrykksendringen.\n",
    "\n",
    "\n",
    "**a)**\n",
    "Bruk formel 1 og 2, og finn formelen for blodtrykksendring som funksjon av\n",
    "blodstrøm, viskositet, lengde og radius."
   ]
  },
  {
   "cell_type": "markdown",
   "metadata": {},
   "source": [
    "        Svar:\n"
   ]
  },
  {
   "cell_type": "markdown",
   "metadata": {},
   "source": [
    "<!-- --- begin solution of exercise --- -->\n",
    "**Løsning.**"
   ]
  },
  {
   "cell_type": "markdown",
   "metadata": {},
   "source": [
    "$$\n",
    "\\begin{align*}\n",
    "q_v &= \\frac{\\Delta p}{R} \\\\\n",
    "    &= \\frac{\\pi r^4 \\Delta p}{8 \\eta l} \\\\\n",
    "\\implies \\Delta p &= \\frac{8 \\eta l q_v}{\\pi r^4}\n",
    "\\end{align*}\n",
    "$$"
   ]
  },
  {
   "cell_type": "markdown",
   "metadata": {},
   "source": [
    "<!-- --- end solution of exercise --- -->\n",
    "\n",
    "**b)**\n",
    "Lag en pythonfunksjon som tar blodtrykksendring, viskositet, radius og\n",
    "lengde som argumenter, og regner ut blodstrømmen."
   ]
  },
  {
   "cell_type": "code",
   "execution_count": 5,
   "metadata": {
    "collapsed": false
   },
   "outputs": [
    {
     "ename": "SyntaxError",
     "evalue": "invalid syntax (<ipython-input-5-ce9946613553>, line 2)",
     "output_type": "error",
     "traceback": [
      "\u001b[0;36m  File \u001b[0;32m\"<ipython-input-5-ce9946613553>\"\u001b[0;36m, line \u001b[0;32m2\u001b[0m\n\u001b[0;31m    def\u001b[0m\n\u001b[0m       ^\u001b[0m\n\u001b[0;31mSyntaxError\u001b[0m\u001b[0;31m:\u001b[0m invalid syntax\n"
     ]
    }
   ],
   "source": [
    "# skriv funksjonen din her:\n",
    "def"
   ]
  },
  {
   "cell_type": "markdown",
   "metadata": {},
   "source": [
    "<!-- --- begin solution of exercise --- -->\n",
    "**Løsning.**"
   ]
  },
  {
   "cell_type": "code",
   "execution_count": 6,
   "metadata": {
    "collapsed": false
   },
   "outputs": [],
   "source": [
    "def q(dp, eta, l, r):\n",
    "    q = (pi*r**4*dp)/(8*eta*l)\n",
    "    return q"
   ]
  },
  {
   "cell_type": "markdown",
   "metadata": {},
   "source": [
    "<!-- --- end solution of exercise --- -->\n",
    "\n",
    "**c)**\n",
    "Bruk funksjonen du lagde i forrige oppgave til å plotte blodstrømmen som\n",
    "funksjon av radius for en arteriole. Sett $\\Delta p = 0.015 Pa$,\n",
    "$\\eta = 0.0025 \\mathrm{Pa s}$, $l = 0.001 \\mathrm{m}$ og la $r$ gå fra $0.1$ til\n",
    "$0.4 \\mathrm{mm}$ som tilsvarer $0.0001 - 0.0004\\mathrm{m}$.\n",
    "Husk å skrive enheter på aksene."
   ]
  },
  {
   "cell_type": "code",
   "execution_count": null,
   "metadata": {
    "collapsed": false
   },
   "outputs": [],
   "source": [
    "# plott blodstrøm på y-aksen, radius på x-aksen"
   ]
  },
  {
   "cell_type": "markdown",
   "metadata": {},
   "source": [
    "<!-- --- begin solution of exercise --- -->\n",
    "**Løsning.**"
   ]
  },
  {
   "cell_type": "code",
   "execution_count": 7,
   "metadata": {
    "collapsed": false
   },
   "outputs": [
    {
     "data": {
      "image/png": "[encoded data removed]",
      "text/plain": [
       "<matplotlib.figure.Figure at 0x1162ed3c8>"
      ]
     },
     "metadata": {},
     "output_type": "display_data"
    }
   ],
   "source": [
    "r = linspace(0.1, 0.4, 9) # mm\n",
    "# linjen over er det samme som:\n",
    "# r = array([0.1, 0.1375, 0.175, 0.2125, 0.25, 0.2875, 0.325, 0.3625, 0.4])\n",
    "r = r*1e-3 # m\n",
    "eta = 0.0025 #Pa s\n",
    "dp = 0.015 # Pa\n",
    "l = 0.001 #m\n",
    "\n",
    "q_v = q(dp, eta, l, r) # m^3/s\n",
    "plot(r*1e3, q_v*1e9) # konverterer r til mm og q_v til mm^3/s\n",
    "xlabel('r (mm)')\n",
    "ylabel(r'$q_v (mm^3/s)$')\n",
    "show()"
   ]
  },
  {
   "cell_type": "markdown",
   "metadata": {},
   "source": [
    "<!-- --- end solution of exercise --- -->\n",
    "\n",
    "\n",
    "<!-- Setter vi sammen likning 1 og 2, får vi følgende uttrykk for blodstrømmen: -->\n",
    "<!--  -->\n",
    "<!-- !bt -->\n",
    "<!-- \\begin{equation} -->\n",
    "<!-- q_v = \\frac{\\pi r^4 \\Delta p}{8 \\eta l}. -->\n",
    "<!-- \\end{equation} -->\n",
    "<!-- !et -->\n",
    "\n",
    "<!-- I kodecella under har vi laget en funksjon som gir blodstrømmen som funksjon av -->\n",
    "<!-- blodtrykk, -->\n",
    "<!--  -->\n",
    "<!--  -->\n",
    "<!-- import numpy as np -->\n",
    "<!-- from __future__ import division -->\n",
    "<!-- from ipywidgets import widgets, fixed -->\n",
    "<!-- import pylab -->\n",
    "<!--  -->\n",
    "<!-- def flow(delta_p, eta, r, l): -->\n",
    "<!-- q_v = (np.pi*r**4*delta_p)/(8*eta*l) -->\n",
    "<!-- return q_v -->\n",
    "<!--  -->\n",
    "<!-- slider = widgets.interact(flow, -->\n",
    "<!-- delta_p=widgets.IntSlider(min=0., max=10., step=0.1, value=1.), -->\n",
    "<!-- eta=widgets.IntSlider(min=0., max=10., step=0.1, value=1.), -->\n",
    "<!-- r=widgets.IntSlider(min=0., max=10., step=0.1, value=1.), -->\n",
    "<!-- l=widgets.IntSlider(min=0., max=10., step=0.1, value=1.) -->\n",
    "<!-- ) -->\n",
    "<!-- --- end exercise --- -->"
   ]
  }
 ],
 "metadata": {
  "kernelspec": {
   "display_name": "Python 3",
   "language": "python",
   "name": "python3"
  },
  "language_info": {
   "codemirror_mode": {
    "name": "ipython",
    "version": 3
   },
   "file_extension": ".py",
   "mimetype": "text/x-python",
   "name": "python",
   "nbconvert_exporter": "python",
   "pygments_lexer": "ipython3",
   "version": "3.6.0"
  },
  "widgets": {
   "state": {
    "47b151383bca40ddb493524044f2abc4": {
     "views": [
      {
       "cell_index": 7
      }
     ]
    },
    "cd144cbae7384433b6ec9b9f87a9634a": {
     "views": [
      {
       "cell_index": 25
      }
     ]
    }
   },
   "version": "1.2.0"
  }
 },
 "nbformat": 4,
 "nbformat_minor": 2
}
