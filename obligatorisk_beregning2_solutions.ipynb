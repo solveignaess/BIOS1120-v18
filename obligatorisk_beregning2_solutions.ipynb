{
 "cells": [
  {
   "cell_type": "markdown",
   "metadata": {},
   "source": [
    "<!-- dom:TITLE: Beregningsoppgave 2: Membranpotensial -->\n",
    "# Beregningsoppgave 2: Membranpotensial\n",
    "<!-- AUTHOR: Solveig Næss -->\n",
    "\n",
    "<!-- DATE: today -->\n",
    "\n",
    "<!-- TOC: on -->"
   ]
  },
  {
   "cell_type": "markdown",
   "metadata": {},
   "source": [
    "\n"
   ]
  },
  {
   "cell_type": "markdown",
   "metadata": {},
   "source": [
    "<div class=\"alert alert-block alert-info\">\n",
    "Denne beregningsoppgaven skal leveres i grupper på to.\n",
    "Start med å lage en kopi av denne fila: Trykk på File; Make a copy.\n",
    "\n",
    "Endre deretter navnet på kopien til: EtternavnFornavn_EtternavnFornavn_beregning2.ipynb.\n",
    "\n",
    "Denne fila skal leveres på CANVAS: Finn Beregningsoppgave 2 under Membran- og aksjonspotensial.\n",
    "Leveringsfristen er torsdag 22.03, klokka 10.00.\n",
    "\n",
    "For å få innleveringen godkjent må dere svare på oppgave 1, 2 og 3 + oppgave 4 ELLER 5."
   ]
  },
  {
   "cell_type": "markdown",
   "metadata": {},
   "source": [
    "\n"
   ]
  },
  {
   "cell_type": "markdown",
   "metadata": {},
   "source": [
    "<!-- --- begin exercise --- -->\n",
    "\n",
    "## Oppgave 1: Membranpotensial\n",
    "<div id=\"ex:v_mem\"></div>\n",
    "\n",
    "\n",
    "**a)**\n",
    "Dobbeltklikk på teksten under, og fyll inn riktig ord på riktig sted:\n",
    "*ampere*, *spenning*, *konsentrasjoner*,  *membranpotensial*,  *volt*, *strøm*,"
   ]
  },
  {
   "cell_type": "markdown",
   "metadata": {},
   "source": [
    "\n"
   ]
  },
  {
   "cell_type": "markdown",
   "metadata": {},
   "source": [
    "Ulike [----] av ioner inni og utenfor cellen skaper en elektrisk spenning over cellemembranen. Denne spenningen kaller vi [----]. Elektrisk potensial betyr det samme som elektrisk [----]. Ordet potensial brukes for å understreke at en oppladet membran har lagret potensiell energi. Elektrisk spenning måles i [----]."
   ]
  },
  {
   "cell_type": "markdown",
   "metadata": {},
   "source": [
    "\n"
   ]
  },
  {
   "cell_type": "markdown",
   "metadata": {},
   "source": [
    "<!-- --- begin solution of exercise --- -->\n",
    "**Løsning.**\n",
    "Ulike **konsentrasjoner** av ioner inni og utenfor cellen skaper en elektrisk spenning over cellemembranen. Denne spenningen kaller vi **membranpotensial**. Elektrisk potensial betyr det samme som elektrisk **spenning**. Elektrisk spenning måles i **volt**.\n",
    "\n",
    "<!-- --- end solution of exercise --- -->\n",
    "\n",
    "<!-- --- end exercise --- -->\n",
    "\n",
    "\n",
    "\n",
    "\n",
    "<!-- --- begin exercise --- -->\n",
    "\n",
    "## Oppgave 2: Likevektspotensial\n",
    "\n",
    "Likevektspotensialet for kalium er den elektriske spenningen som ville oppstått over membranen til en nervecelle som kun er permeabel for kalium.\n",
    "\n",
    "Vi kaller det likevektspotensial, fordi dette er spenningen som oppstår når diffusjonen av kalium inn i cellen vil være nøyaktig like stor som diffusjonen av kalium ut av cellen. Her er det ingen aktiv transport av ioner gjennom cellemebranen, men kun passiv transport gjennom lekkasjekanaler.\n",
    "\n",
    "**Ekstracellulære og intracellulære ionekonsentrasjoner:**\n",
    "<table border=\"1\">\n",
    "<thead>\n",
    "<tr><th align=\"center\">      Ion      </th> <th align=\"center\">Ekstracellulær (mM)</th> <th align=\"center\">Intracellulær (mM)</th> </tr>\n",
    "</thead>\n",
    "<tbody>\n",
    "<tr><td align=\"center\">   $\\mathrm{Na^+}$    </td> <td align=\"center\">   145                    </td> <td align=\"center\">   15                    </td> </tr>\n",
    "<tr><td align=\"center\">   $\\mathrm{K^+}$     </td> <td align=\"center\">   4                      </td> <td align=\"center\">   140                   </td> </tr>\n",
    "<tr><td align=\"center\">   $\\mathrm{Cl^-}$    </td> <td align=\"center\">   120                    </td> <td align=\"center\">   7                     </td> </tr>\n",
    "<tr><td align=\"center\">   Andre              </td> <td align=\"center\">   < 1                    </td> <td align=\"center\">   65                    </td> </tr>\n",
    "</tbody>\n",
    "</table>\n",
    "\n",
    "**a)**\n",
    "Hvilke to gradienter driver diffusjon gjennom cellemebranen?"
   ]
  },
  {
   "cell_type": "markdown",
   "metadata": {},
   "source": [
    "        Svar:\n"
   ]
  },
  {
   "cell_type": "markdown",
   "metadata": {},
   "source": [
    "<!-- --- begin solution of exercise --- -->\n",
    "**Løsning.**\n",
    "En kjemisk gradient og en elektrisk gradient.\n",
    "\n",
    "<!-- --- end solution of exercise --- -->\n",
    "\n",
    "**b)**\n",
    "Vil den kjemiske gradienten til kalium drive kalium-ioner inn eller ut av cellen? Hva med den elektriske gradienten?"
   ]
  },
  {
   "cell_type": "markdown",
   "metadata": {},
   "source": [
    "        Svar:\n"
   ]
  },
  {
   "cell_type": "markdown",
   "metadata": {},
   "source": [
    "<!-- --- begin solution of exercise --- -->\n",
    "**Løsning.**\n",
    "Kaliumkonsentrasjonen er større inni enn utenfor cellen. Denne konsentrasjonsforskjellen vil drive kalium ut av cellen. Ionestrømmen ut av cellen drives altså av en kjemisk gradient.\n",
    "Når den kjemiske gradienten driver $\\mathrm{K^+}$ ut av cellen, vil vi få et lite overskudd av $\\mathrm{K^+}$-ioner på utsiden av cellen. Dette overskuddet av positive ladninger utenfor cellen vil skape en elektrisk spenning over membranen, og dermed en elektrisk gradient. Den elektriske gradienten vil motvirke ladningsforskjellen, og elektriske krefter vil drive diffusjon av $\\mathrm{K^+}$-ioner inn i cellen. Alt dette skjer i passive ionekanaler i cellemebranen.\n",
    "\n",
    "<!-- --- end solution of exercise --- -->\n",
    "\n",
    "\n",
    "Nernst-likningen gir oss likevektspotensialet $E_x$ for én bestemt ionetype $x$."
   ]
  },
  {
   "cell_type": "markdown",
   "metadata": {},
   "source": [
    "<!-- Equation labels as ordinary links -->\n",
    "<div id=\"eq:nernst\"></div>\n",
    "\n",
    "$$\n",
    "\\begin{equation} \\label{eq:nernst} \\tag{1}\n",
    "E_x = \\frac{\\mathrm{C}}{z}\\log_{10}\\frac{[x]_{ute}}{[x]_{inne}},\n",
    "\\end{equation}\n",
    "$$"
   ]
  },
  {
   "cell_type": "markdown",
   "metadata": {},
   "source": [
    "der\n",
    "* $\\mathrm{C} = 60$mV er en konstant\n",
    "\n",
    "* $z$ er ionets ladning (valens)\n",
    "\n",
    "* $[x]_{ute}$ er konsentrasjonen av ionetype $x$ utenfor cellen (mM)\n",
    "\n",
    "* $[x]_{inne}$ er konsentrasjonen av ionetype $x$ inni cellen (mM)\n",
    "\n",
    "Vi kan skrive Nernst-likningen som en python-funksjon på følgende måte:"
   ]
  },
  {
   "cell_type": "code",
   "execution_count": 48,
   "metadata": {
    "collapsed": false
   },
   "outputs": [],
   "source": [
    "from pylab import *\n",
    "\n",
    "def nernst(z, x_out, x_in):\n",
    "    E = 60/z*log10(x_out/x_in)\n",
    "    return E"
   ]
  },
  {
   "cell_type": "markdown",
   "metadata": {},
   "source": [
    "**c)**\n",
    "Hva er likevektspotensialet til kalium? Bruk tabellen og python-funksjonen over til å regne det ut. (NB: Du må først kjøre kodecellen over før du kan bruke python-funksjonen.)"
   ]
  },
  {
   "cell_type": "code",
   "execution_count": 49,
   "metadata": {
    "collapsed": false
   },
   "outputs": [],
   "source": [
    "# z_K =\n",
    "# c_ut_K =\n",
    "# c_inn_K =\n",
    "# E_K = nernst(z_K, c_ut_K, c_inn_K)\n",
    "# print('Likevektspotensialet for kalium er ', E_K, 'mV.')"
   ]
  },
  {
   "cell_type": "markdown",
   "metadata": {},
   "source": [
    "<!-- --- begin solution of exercise --- -->\n",
    "**Løsning.**"
   ]
  },
  {
   "cell_type": "code",
   "execution_count": 50,
   "metadata": {
    "collapsed": false
   },
   "outputs": [
    {
     "name": "stdout",
     "output_type": "stream",
     "text": [
      "Likevektspotensialet for kalium er  -92.644082661 mV.\n"
     ]
    }
   ],
   "source": [
    "z_K = 1\n",
    "c_out_K = 4\n",
    "c_in_K = 140\n",
    "E_K = nernst(z_K, c_out_K, c_in_K)\n",
    "print('Likevektspotensialet for kalium er ', E_K, 'mV.')"
   ]
  },
  {
   "cell_type": "markdown",
   "metadata": {},
   "source": [
    "<!-- --- end solution of exercise --- -->\n",
    "\n",
    "**d)**\n",
    "Tror dere likevektspotensialet til natrium være positivt eller negativt? Hvorfor?\n",
    "Hva med likevektspotensialet til klorid?"
   ]
  },
  {
   "cell_type": "markdown",
   "metadata": {},
   "source": [
    "        Svar:\n"
   ]
  },
  {
   "cell_type": "markdown",
   "metadata": {},
   "source": [
    "<!-- --- begin solution of exercise --- -->\n",
    "**Løsning.**\n",
    "Ekstracellulær konsentrasjon av natrium er større enn intracellulær konsentrasjon. Den kjemiske gradienten til natrium vil derfor drive natrium-ioner inn i cellen. Dette vil gi et overskudd av positive ladninger inni cellen, som setter opp en elektrisk spenning over cellemebranen. Når denne spenningen gjør at den elektriske gradienten til natrium er like stor som (men i motsatt retning av) den kjemiske gradienten til natrium, er spenningen (membranpotensialet) = likevektspotensialet til natrium. Når membranpotensialet til cellen = likevektspotensialet til natrium, vil altså netto strøm av natrium-ioner gjennom membranen være null. Membranpotensialet er definert som positivt når det er flere positive ladninger inni cellen enn utenfor. Vi kan si at natrium er \"fornøyd\" når det er noen ekstra $\\mathrm{Na^+}$-ioner inni cellen. Likevektspotensialet til natrium er derfor positivt.\n",
    "\n",
    "Vi kan også forklare dette ved å se på Nernst-likningen: Ekstracellulær konsentrasjon av natrium er større enn intracellulær konsentrasjon. Brøken $\\frac{[Na+]_{ute}}{[Na+]_{inne}}$ vil være større enn $1$, og $\\log_{10}(\\frac{[Na+]_{ute}}{[Na+]_{inne}}>1) > 0$. Videre er $z = +1$. For å finne $E_{Na}$ må vi gange sammen positive tall, og $E_{Na}$ må nødvendigvis bli et positivt tall.\n",
    "\n",
    "Den kjemiske gradienten (som setter opp likevektspotensialet) til klor vil drive negative klor-ioner inn i cellen. Klor er altså \"fornøyd\" når vi har noen ekstra $\\mathrm{Cl^-}$-ioner inni cellen, altså når membranpotensialet er negativt. Likevektspotensialet til klor er negativt.\n",
    "\n",
    "Forklart ved Nernst-likningen: Ekstracellulær konsentrasjon av klorid er større enn intracellulær konsentrasjon. Brøken $\\frac{[Cl-]_{ute}}{[Cl-]_{inne}}$ vil være større enn $1$, og $\\log_{10}(\\frac{[Cl-]_{ute}}{[Cl-]_{inne}}>1) > 0$. Videre er $z = -1$, og $E_{Cl}$ vil være et negativt tall.\n",
    "\n",
    "<!-- --- end solution of exercise --- -->\n",
    "\n",
    "**e)**\n",
    "Bruk python-funksjonen til å regne ut likevektspotensialet til natrium og klorid. Stemmer disse overens med konklusjonen i forrige deloppgave? Hvis ikke, finn ut hva som var feil med resonnementet deres og korriger svaret i oppgave 2d."
   ]
  },
  {
   "cell_type": "code",
   "execution_count": 51,
   "metadata": {
    "collapsed": false
   },
   "outputs": [],
   "source": [
    "#Gjør utregningen her"
   ]
  },
  {
   "cell_type": "markdown",
   "metadata": {},
   "source": [
    "<!-- --- begin solution of exercise --- -->\n",
    "**Løsning.**"
   ]
  },
  {
   "cell_type": "code",
   "execution_count": 52,
   "metadata": {
    "collapsed": false
   },
   "outputs": [
    {
     "name": "stdout",
     "output_type": "stream",
     "text": [
      "Likevektspotensialet til natrium er 59.1166045908 mV.\n",
      "Likevektspotensialet til klorid er -74.044992362 mV.\n"
     ]
    }
   ],
   "source": [
    "z_Na = 1\n",
    "c_out_Na = 145\n",
    "c_in_Na = 15\n",
    "\n",
    "z_Cl = -1\n",
    "c_out_Cl = 120\n",
    "c_in_Cl = 7\n",
    "\n",
    "E_Na = nernst(z_Na, c_out_Na, c_in_Na)\n",
    "E_Cl = nernst(z_Cl, c_out_Cl, c_in_Cl)\n",
    "\n",
    "print('Likevektspotensialet til natrium er',  E_Na, 'mV.')\n",
    "print('Likevektspotensialet til klorid er', E_Cl, 'mV.')"
   ]
  },
  {
   "cell_type": "markdown",
   "metadata": {},
   "source": [
    "<!-- --- end solution of exercise --- -->\n",
    "\n",
    "<!-- --- end exercise --- -->\n",
    "\n",
    "\n",
    "\n",
    "\n",
    "<!-- --- begin exercise --- -->\n",
    "\n",
    "## Oppgave 3: Hvilepotensial\n",
    "\n",
    "\n",
    "**a)**\n",
    "Hva er forskjellen på likevektspotensial og hvilepotensial?"
   ]
  },
  {
   "cell_type": "markdown",
   "metadata": {},
   "source": [
    "        Svar:\n"
   ]
  },
  {
   "cell_type": "markdown",
   "metadata": {},
   "source": [
    "<!-- --- begin solution of exercise --- -->\n",
    "**Løsning.**\n",
    "Likevektspotensial er tilknyttet én bestemt ionetype. Likevektspotensialet for ionetype $x$ er den elektriske spenningen over cellemembranen som oppstår når ionestrøm av $x$ inn i cellen er nøyaktig like stor som ionestrømmen av $x$ ut av cellen. Her er netto ionestrøm for $x$ lik $0$.\n",
    "Hvilepotensial er elektrisk spenningen over cellemembranen når netto ionstrøm av alle ionetyper over cellemembranen er null.\n",
    "\n",
    "<!-- --- end solution of exercise --- -->\n",
    "\n",
    "Når vi skal regne ut hvilepotensialet til en celle, trenger vi en likning som likner veldig på Nernst-likningen, men som er noe mer komplisert. Denne heter Goldman-Hodgkin-Katz, og ser slik ut:"
   ]
  },
  {
   "cell_type": "markdown",
   "metadata": {},
   "source": [
    "$$\n",
    "E_m = \\mathrm{C} \\log_{10}{\\frac{P_{Na+}[Na+]_{ute} + P_{K+}[K+]_{ute} + P_{Cl-}[Cl-]_{inne}}{P_{Na+}[Na+]_{inne} + P_{K+}[K+]_{inne} + P_{Cl-}[Cl-]_{ute}}}\n",
    "$$"
   ]
  },
  {
   "cell_type": "markdown",
   "metadata": {},
   "source": [
    "Her er $P_{x}$ cellemembranens permeabilitet for ionetype $x$. Dvs hvor lett det er for ion $x$ å slippe gjennom membranen når kun passive lekkasjekanaler, og ingen aktive kanaler, er åpne. En nervecelle har vanligvis følgende permeabiliteter: $P_{Na^+} = 1$, $P_{K^+} = 20$ og $P_{Cl^-} = 9$.\n",
    "\n",
    "Kodecellen under gir oss Goldman-Hodgkin-Katz-likningen som en python-funksjon.\n",
    "\n",
    "<div class=\"alert alert-block alert-info\">\n",
    "Kjør kodecellen under."
   ]
  },
  {
   "cell_type": "code",
   "execution_count": 53,
   "metadata": {
    "collapsed": false
   },
   "outputs": [
    {
     "data": {
      "text/plain": [
       "-67.866898454961145"
      ]
     },
     "metadata": {},
     "output_type": "display_data"
    }
   ],
   "source": [
    "from pylab import *\n",
    "from ipywidgets import widgets, fixed\n",
    "def ghk(p_Na, p_K, p_Cl,\n",
    "        c_out_Na, c_out_K, c_out_Cl,\n",
    "        c_in_Na, c_in_K, c_in_Cl):\n",
    "    E_m = 60*log10((p_Na*c_out_Na + p_K*c_out_K + p_Cl*c_in_Cl)/(p_Na*c_in_Na + p_K*c_in_K + p_Cl*c_out_Cl))\n",
    "    return E_m\n",
    "\n",
    "slider = widgets.interact(ghk,\n",
    "                          p_Na=widgets.IntSlider(min=1., max=30., step=1., value=1.),\n",
    "                          p_K=widgets.IntSlider(min=1., max=30., step=1., value=20.),\n",
    "                          p_Cl=widgets.IntSlider(min=1., max=30., step=1., value=9.),\n",
    "                          c_out_Na=widgets.IntSlider(min=1., max=160., step=1., value=1.),\n",
    "                          c_out_K=widgets.IntSlider(min=1., max=160., step=1., value=1.),\n",
    "                          c_out_Cl=widgets.IntSlider(min=1., max=160., step=1., value=1.),\n",
    "                          c_in_Na=widgets.IntSlider(min=1., max=160., step=1., value=1.),\n",
    "                          c_in_K=widgets.IntSlider(min=1., max=160., step=1., value=1.),\n",
    "                          c_in_Cl=widgets.IntSlider(min=1., max=160., step=1., value=1.)\n",
    "                          )"
   ]
  },
  {
   "cell_type": "markdown",
   "metadata": {},
   "source": [
    "**b)**\n",
    "Hva er hvilepotensialet for en nervecelle med konsentrasjoner som gitt i tabellen over, og følgende permeabiliteter: $P_{Na^+} = 1$, $P_{K^+} = 20$, $P_{Cl^-} = 9$? Bruk sliderne over."
   ]
  },
  {
   "cell_type": "markdown",
   "metadata": {},
   "source": [
    "        Svar:\n"
   ]
  },
  {
   "cell_type": "markdown",
   "metadata": {},
   "source": [
    "<!-- --- begin solution of exercise --- -->\n",
    "**Løsning.**\n",
    "Bruker sliderne og finner at $E_m \\approx -68$ mV."
   ]
  },
  {
   "cell_type": "code",
   "execution_count": 64,
   "metadata": {
    "collapsed": false
   },
   "outputs": [
    {
     "name": "stdout",
     "output_type": "stream",
     "text": [
      "Hvilepotensialet er  -67.9  mV.\n"
     ]
    }
   ],
   "source": [
    "p_Na = 1\n",
    "p_K = 20\n",
    "p_Cl = 9\n",
    "E_m = ghk(p_Na, p_K, p_Cl,\n",
    "          c_out_Na, c_out_K, c_out_Cl,\n",
    "          c_in_Na, c_in_K, c_in_Cl)\n",
    "print('Hvilepotensialet er ', round(E_m,1), ' mV.')"
   ]
  },
  {
   "cell_type": "markdown",
   "metadata": {},
   "source": [
    "<!-- --- end solution of exercise --- -->\n",
    "\n",
    "**c)**\n",
    "Hvilken ionetype er viktigst for å sette opp hvilemembranpotensialet?"
   ]
  },
  {
   "cell_type": "markdown",
   "metadata": {},
   "source": [
    "        Svar:\n"
   ]
  },
  {
   "cell_type": "markdown",
   "metadata": {},
   "source": [
    "<!-- --- begin solution of exercise --- -->\n",
    "**Løsning.**\n",
    "En passiv cellemembran er mye mer permeabel for kalium, enn for noen av de andre ionetypene. Membranpotensialet vil derfor hovedsakelig settes opp av kalium.\n",
    "\n",
    "<!-- --- end solution of exercise --- -->\n",
    "\n",
    "**d)**\n",
    "Valium øker permeabiliteten for klorid. Hva skjer med cellens evne til å fyre et aksjonspotensial hvis du tar valium?"
   ]
  },
  {
   "cell_type": "markdown",
   "metadata": {},
   "source": [
    "        Svar:\n"
   ]
  },
  {
   "cell_type": "markdown",
   "metadata": {},
   "source": [
    "<!-- --- begin solution of exercise --- -->\n",
    "**Løsning.**\n",
    "Når membranen blir mer permeabel for klorid, vil hvilepotensialet bli mer likt likevektspotensialet til klorid. Det vil gå flere klor-ioner inn i cellen, og hvilepotensialet blir mer negativt. Det blir vanskeligere for cellen å fyre et aksjonspotensial. Cellen blir mindre aktiv.\n",
    "\n",
    "<!-- --- end solution of exercise --- -->\n",
    "\n",
    "<!-- !bsubex -->\n",
    "<!-- Den elektriske feltstyrken som skal til for å bevege et hårstrå (statisk elektrisitet) er ca $100$ V/cm. -->\n",
    "<!-- Vi kan finne den elektriske feltstyrke inni cellemembranen ved å dele membranpotensialet på tykkelsen til cellemembranen. Hvor stor er feltstyrken inni cellemembranen ved hvilepotensial? Cellemembranen er ca $4$ nm tykk. -->\n",
    "<!--  -->\n",
    "<!-- !bc -->\n",
    "<!-- Svar: -->\n",
    "<!-- !ec -->\n",
    "<!--  -->\n",
    "<!-- !bsol -->\n",
    "<!-- Feltstyrken inni cellemembranen er ca $100 000$ V/cm. Dvs $1000$ ganger så sterk som den elektriske feltstyrken som skal til for å bevege et hårstrå. -->\n",
    "<!-- !esol -->\n",
    "<!--  -->\n",
    "<!-- !esubex -->\n",
    "\n",
    "**e)**\n",
    "Ved dødsstraff i USA har en dødelig injeksjon av kalium vært brukt. Hva skjer med hvilepotensialet dersom konsentrasjonen av ekstracellulært kalium økes til $7$mM?"
   ]
  },
  {
   "cell_type": "code",
   "execution_count": 55,
   "metadata": {
    "collapsed": false
   },
   "outputs": [],
   "source": [
    "# Svar:"
   ]
  },
  {
   "cell_type": "markdown",
   "metadata": {},
   "source": [
    "<!-- --- begin solution of exercise --- -->\n",
    "**Løsning.**\n",
    "En økning av ekstracellulært kalium vil ikke gi noe særlig utslag for nerveceller i hjernen (pga blod-hjerne-barrieren), men for nervecellene i hjertet vil dette ha store konsekvenser:\n",
    "\n",
    "Ved økt ekstracellulær konsentrasjon av kalium vil likevektspotensialet til kalium bli mer positivt. Når likevektspotensialet til kalium øker, vil også hvilemembranpotensialet til hjertecellen bli mer positivt. Dersom den ekstracellulære konsentrasjonen av kalium blir høy nok, vil hvilepotensialet til cellen bli så høyt at cellen aldri vil komme ned til det lave membranpotensialet som skal til for å stoppe inaktiveringen av natrium-kanaler etter et aksjonspotensial. Så lenge natrium-kanalene forblir inaktivert kan ikke cellen fyre et nytt aksjonspotensial.\n",
    "\n",
    "<!-- --- end solution of exercise --- -->\n",
    "\n",
    "\n",
    "<div class=\"alert alert-block alert-info\">\n",
    "NB: Gjør enten oppgave 4 eller 5."
   ]
  },
  {
   "cell_type": "markdown",
   "metadata": {},
   "source": [
    "\n"
   ]
  },
  {
   "cell_type": "markdown",
   "metadata": {},
   "source": [
    "<!-- --- end exercise --- -->\n",
    "\n",
    "\n",
    "\n",
    "\n",
    "<!-- --- begin exercise --- -->\n",
    "\n",
    "## Oppgave 4: Aksjonspotensial (lag en egen python-funksjon)\n",
    "\n",
    "\n",
    "**a)**\n",
    "På laben har dere regnet ut ledningshastigheten til et aksjonspotensial langs et myelinert akson.\n",
    "Her er noen av verdiene dere fikk:"
   ]
  },
  {
   "cell_type": "code",
   "execution_count": 56,
   "metadata": {
    "collapsed": false
   },
   "outputs": [],
   "source": [
    "v = array([64.3, 28.08, 43.63, 45.2, 41.3, 51.6, 42.0, 37.69, 50.2, 35.95, 42.72, 55])"
   ]
  },
  {
   "cell_type": "markdown",
   "metadata": {},
   "source": [
    "Beregn ledningshastigheten langs et myelinert akson ved å finne gjennomsnittet av målingene."
   ]
  },
  {
   "cell_type": "code",
   "execution_count": null,
   "metadata": {
    "collapsed": false
   },
   "outputs": [],
   "source": []
  },
  {
   "cell_type": "markdown",
   "metadata": {},
   "source": [
    "<!-- --- begin solution of exercise --- -->\n",
    "**Løsning.**"
   ]
  },
  {
   "cell_type": "code",
   "execution_count": 58,
   "metadata": {
    "collapsed": false
   },
   "outputs": [
    {
     "name": "stdout",
     "output_type": "stream",
     "text": [
      "Ledningshastigheten til et myelinert akson er ca  44.8  m/s.\n"
     ]
    }
   ],
   "source": [
    "v_mean = mean(v)\n",
    "print('Ledningshastigheten til et myelinert akson er ca ', round(v_mean, 1), ' m/s.')"
   ]
  },
  {
   "cell_type": "markdown",
   "metadata": {},
   "source": [
    "<!-- --- end solution of exercise --- -->\n",
    "\n",
    "\n",
    "**b)**\n",
    "Lag en python-funksjon som regner ut hvor langt *s* et aksjonspotensial kan forflytte seg med farten *v* langs et myelinert akson i løpet av tiden $t$."
   ]
  },
  {
   "cell_type": "code",
   "execution_count": null,
   "metadata": {
    "collapsed": false
   },
   "outputs": [],
   "source": [
    "# skriv funksjonen her"
   ]
  },
  {
   "cell_type": "markdown",
   "metadata": {},
   "source": [
    "<!-- --- begin solution of exercise --- -->\n",
    "**Løsning.**"
   ]
  },
  {
   "cell_type": "code",
   "execution_count": 59,
   "metadata": {
    "collapsed": false
   },
   "outputs": [],
   "source": [
    "def strekning(v, t):\n",
    "    strekning = v*t\n",
    "    return strekning"
   ]
  },
  {
   "cell_type": "markdown",
   "metadata": {},
   "source": [
    "<!-- --- end solution of exercise --- -->\n",
    "\n",
    "\n",
    "**c)**\n",
    "Bruk ledningshastigheten dere regnet ut i oppgave 4a og lag et plott som viser strekningen aksjonspotensialet kan forflytte seg som funksjon av tid."
   ]
  },
  {
   "cell_type": "code",
   "execution_count": null,
   "metadata": {
    "collapsed": false
   },
   "outputs": [],
   "source": [
    "# lag plottet her"
   ]
  },
  {
   "cell_type": "markdown",
   "metadata": {},
   "source": [
    "<!-- --- begin solution of exercise --- -->\n",
    "**Løsning.**"
   ]
  },
  {
   "cell_type": "code",
   "execution_count": 60,
   "metadata": {
    "collapsed": false
   },
   "outputs": [
    {
     "data": {
      "image/png": "[encoded data removed]",
      "text/plain": [
       "<matplotlib.figure.Figure at 0x1166ab898>"
      ]
     },
     "metadata": {},
     "output_type": "display_data"
    }
   ],
   "source": [
    "t = array([0.01, 0.02, 0.03, 0.04, 0.05, 0.06, 0.07, 0.08, 0.09, 0.1 ])\n",
    "v_myelin = v_mean\n",
    "s_myelinert = strekning(v_myelin, t)\n",
    "plot(t, s_myelinert, label='m. myelin')\n",
    "legend()\n",
    "xlabel('t (s)')\n",
    "ylabel('s (m)')\n",
    "show()"
   ]
  },
  {
   "cell_type": "markdown",
   "metadata": {},
   "source": [
    "<!-- --- end solution of exercise --- -->\n",
    "\n",
    "**d)**\n",
    "Et umyelinert akson har en ledningshastighet på $\\approx 1$ m/s. Lag en figur som viser strekningen aksjonspotensialet forflytter seg langs et umyelinert akson som funksjon av tiden."
   ]
  },
  {
   "cell_type": "code",
   "execution_count": null,
   "metadata": {
    "collapsed": false
   },
   "outputs": [],
   "source": [
    "# lag plottet her"
   ]
  },
  {
   "cell_type": "markdown",
   "metadata": {},
   "source": [
    "<!-- --- begin solution of exercise --- -->\n",
    "**Løsning.**"
   ]
  },
  {
   "cell_type": "code",
   "execution_count": 61,
   "metadata": {
    "collapsed": false
   },
   "outputs": [
    {
     "data": {
      "image/png": "[encoded data removed]",
      "text/plain": [
       "<matplotlib.figure.Figure at 0x1167ff0f0>"
      ]
     },
     "metadata": {},
     "output_type": "display_data"
    }
   ],
   "source": [
    "t = array([0.01, 0.02, 0.03, 0.04, 0.05, 0.06, 0.07, 0.08, 0.09, 0.1 ])\n",
    "v_umyelin = 1\n",
    "s_umyelinert = strekning(v_umyelin, t)\n",
    "\n",
    "plot(t, s_umyelinert, label='u. myelin')\n",
    "legend()\n",
    "xlabel('t (s)')\n",
    "ylabel('s (m)')\n",
    "show()"
   ]
  },
  {
   "cell_type": "markdown",
   "metadata": {},
   "source": [
    "<!-- --- end solution of exercise --- -->\n",
    "\n",
    "**e)**\n",
    "Hvor mye lenger kan et aksjonspotensial forflytte seg på $0.1$s i et myelinert akson enn i et umyelinert akson?"
   ]
  },
  {
   "cell_type": "markdown",
   "metadata": {},
   "source": [
    "        Svar:\n"
   ]
  },
  {
   "cell_type": "markdown",
   "metadata": {},
   "source": [
    "<!-- --- begin solution of exercise --- -->\n",
    "**Løsning.**\n",
    "Les av grafen eller regn ut:"
   ]
  },
  {
   "cell_type": "code",
   "execution_count": 62,
   "metadata": {
    "collapsed": false
   },
   "outputs": [
    {
     "name": "stdout",
     "output_type": "stream",
     "text": [
      "Aksjonspotensialet kan flytte seg ca 4.38 m lenger i et myelinert enn i et umyelinert akson på 0.1s.\n"
     ]
    }
   ],
   "source": [
    "delta_s = strekning(v_myelin, 0.1) - strekning(v_umyelin, 0.1)\n",
    "print('Aksjonspotensialet kan flytte seg ca', round(delta_s, 2), 'm lenger i et myelinert enn i et umyelinert akson på 0.1s.')"
   ]
  },
  {
   "cell_type": "markdown",
   "metadata": {},
   "source": [
    "<!-- --- end solution of exercise --- -->\n",
    "\n",
    "\n",
    "\n",
    "<!-- --- end exercise --- -->\n",
    "\n",
    "\n",
    "\n",
    "\n",
    "<!-- --- begin exercise --- -->\n",
    "\n",
    "## Oppgave 5: Aksjonspotensial\n",
    "\n",
    "\n",
    "**a)**\n",
    "På laben har dere regnet ut ledningshastigheten til et aksjonspotensial langs et myelinert akson.\n",
    "Her er noen av verdiene dere fikk:"
   ]
  },
  {
   "cell_type": "code",
   "execution_count": null,
   "metadata": {
    "collapsed": false
   },
   "outputs": [],
   "source": [
    "v = array([64.3, 28.08, 43.63, 45.2, 41.3, 51.6, 42.0, 37.69, 50.2, 35.95, 42.72, 55])"
   ]
  },
  {
   "cell_type": "markdown",
   "metadata": {},
   "source": [
    "Beregn ledningshastigheten langs et myelinert akson ved å finne gjennomsnittet av målingene."
   ]
  },
  {
   "cell_type": "code",
   "execution_count": null,
   "metadata": {
    "collapsed": false
   },
   "outputs": [],
   "source": [
    "Svar:"
   ]
  },
  {
   "cell_type": "markdown",
   "metadata": {},
   "source": [
    "<!-- --- begin solution of exercise --- -->\n",
    "**Løsning.**"
   ]
  },
  {
   "cell_type": "code",
   "execution_count": 63,
   "metadata": {
    "collapsed": false
   },
   "outputs": [
    {
     "name": "stdout",
     "output_type": "stream",
     "text": [
      "Ledningshastigheten til et myelinert akson er ca  44.8  m/s.\n"
     ]
    }
   ],
   "source": [
    "v_mean = mean(v)\n",
    "print('Ledningshastigheten til et myelinert akson er ca ', round(v_mean, 1), ' m/s.')"
   ]
  },
  {
   "cell_type": "markdown",
   "metadata": {},
   "source": [
    "<!-- --- end solution of exercise --- -->\n",
    "\n",
    "**b)**\n",
    "Skriv opp en formel som regner ut hvor lang strekning **s** aksjonspotensialet beveger seg  i løpet av tiden **t** med en fart **v**."
   ]
  },
  {
   "cell_type": "markdown",
   "metadata": {},
   "source": [
    "        Svar:\n"
   ]
  },
  {
   "cell_type": "markdown",
   "metadata": {},
   "source": [
    "<!-- --- begin solution of exercise --- -->\n",
    "**Løsning.**"
   ]
  },
  {
   "cell_type": "markdown",
   "metadata": {},
   "source": [
    "$$\n",
    "s = v \\cdot t\n",
    "$$"
   ]
  },
  {
   "cell_type": "markdown",
   "metadata": {},
   "source": [
    "<!-- --- end solution of exercise --- -->\n",
    "\n",
    "**c)**\n",
    "Et umyelinert akson har en ledningshastighet på ca $1$m/s. Hvis dere tegner opp en graf som viser strekningen tilbakelagt av aksjonspotensialet som funksjon av tid. Vil grafen for myelinert eller umyelinert akson ha høyest stigningstall?"
   ]
  },
  {
   "cell_type": "markdown",
   "metadata": {},
   "source": [
    "        Svar:\n"
   ]
  },
  {
   "cell_type": "markdown",
   "metadata": {},
   "source": [
    "<!-- --- begin solution of exercise --- -->\n",
    "**Løsning.**\n",
    "Stigningstallet til grafen vil være lik ledningshastigheten. Grafen for et myelinert akson vil være brattere og ha et høyere stigningstall enn grafen for et umyelinert akson.\n",
    "\n",
    "<!-- --- end solution of exercise --- -->\n",
    "\n",
    "**d)**\n",
    "Hvor mye lenger kan et aksjonspotensial forflytte seg på $0.1$s i et myelinert akson enn i et umyelinert akson?"
   ]
  },
  {
   "cell_type": "markdown",
   "metadata": {},
   "source": [
    "        Svar:\n"
   ]
  },
  {
   "cell_type": "markdown",
   "metadata": {},
   "source": [
    "<!-- --- begin solution of exercise --- -->\n",
    "**Løsning.**"
   ]
  },
  {
   "cell_type": "markdown",
   "metadata": {},
   "source": [
    "$$\n",
    "\\Delta s = (v_2 - v_1)*t = (44.8 - 1)*0.1 = 4.38 m\n",
    "$$"
   ]
  },
  {
   "cell_type": "markdown",
   "metadata": {},
   "source": [
    "<!-- --- end solution of exercise --- -->\n",
    "\n",
    "<!-- --- end exercise --- -->"
   ]
  }
 ],
 "metadata": {
  "kernelspec": {
   "display_name": "Python 3",
   "language": "python",
   "name": "python3"
  },
  "language_info": {
   "codemirror_mode": {
    "name": "ipython",
    "version": 3
   },
   "file_extension": ".py",
   "mimetype": "text/x-python",
   "name": "python",
   "nbconvert_exporter": "python",
   "pygments_lexer": "ipython3",
   "version": "3.6.0"
  },
  "widgets": {
   "state": {
    "9db163ae6b5043b9a08ce223db6b2abd": {
     "views": [
      {
       "cell_index": 31
      }
     ]
    }
   },
   "version": "1.2.0"
  }
 },
 "nbformat": 4,
 "nbformat_minor": 2
}
