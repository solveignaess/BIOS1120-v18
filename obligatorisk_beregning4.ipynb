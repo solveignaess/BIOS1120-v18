{
 "cells": [
  {
   "cell_type": "markdown",
   "metadata": {},
   "source": [
    "<!-- dom:TITLE: Beregningsoppgave 4: Nyrer -->\n",
    "# Beregningsoppgave 4: Nyrer\n",
    "<!-- AUTHOR: Solveig Næss -->\n",
    "\n",
    "<!-- DATE: today -->\n",
    "\n",
    "<!-- TOC: on -->\n",
    "<div class=\"alert alert-block alert-info\">\n",
    "Denne beregningsoppgaven skal leveres i grupper på to.\n",
    "Start med å lage en kopi av denne fila: Trykk på File; Make a copy.\n",
    "\n",
    "Endre deretter navnet på kopien til: EtternavnFornavn_EtternavnFornavn_beregning4.ipynb.\n",
    "\n",
    "Denne fila skal leveres på CANVAS: Finn Beregningsoppgave 4 under Osmoregulering og nyrefunksjon.\n",
    "Leveringsfristen er tirsdag 8.05, klokka 10.00.\n",
    "\n",
    "Velg enten oppgave 1 ELLER oppgave 2. Oppgave 2 er laget for dem som ikke har tatt BIOS1100."
   ]
  },
  {
   "cell_type": "markdown",
   "metadata": {},
   "source": [
    "\n"
   ]
  },
  {
   "cell_type": "markdown",
   "metadata": {},
   "source": [
    "<!-- --- begin exercise --- -->\n",
    "\n",
    "## Oppgave 1: Tubulussystemet\n",
    "\n",
    "Etter at du har gjort denne oppgaven skal du ha repetert:\n",
    "* lister\n",
    "\n",
    "* dictionaries\n",
    "\n",
    "* for-løkker\n",
    "\n",
    "* if-tester\n",
    "\n",
    "I tillegg skal du kunne forklare hvilke deler av tubulussystemet som sørger for reabsorpsjon, sekresjon og ekskresjon av ulike stoffer i et nefron.\n",
    "_____________________________-\n",
    "\n",
    "Under har vi laget en liste som inneholder alle stoffer som secerneres (sekreres) og reabsorberes i proksimale tubulus:"
   ]
  },
  {
   "cell_type": "code",
   "execution_count": 1,
   "metadata": {
    "collapsed": false
   },
   "outputs": [],
   "source": [
    "proks_tubulus = ['H+', 'NH3', 'HCO3-', 'NaCl', 'H2O', 'K+', 'næringsstoffer']"
   ]
  },
  {
   "cell_type": "markdown",
   "metadata": {},
   "source": [
    "For å hente ut informasjon fra en liste, bruker vi tall-indekser. Vi kan for eksempel hente ut NaCl og H2O fra lista på denne måten:"
   ]
  },
  {
   "cell_type": "code",
   "execution_count": 2,
   "metadata": {
    "collapsed": false
   },
   "outputs": [],
   "source": [
    "proks_tubulus[3:5]"
   ]
  },
  {
   "cell_type": "markdown",
   "metadata": {},
   "source": [
    "**a)**\n",
    "Bruk indeksering til å printe ut\n",
    "\n",
    "1. stoffene som secerneres\n",
    "\n",
    "2. stoffene som reabsorberes\n",
    "\n",
    "fra proks_tubulus-lista."
   ]
  },
  {
   "cell_type": "code",
   "execution_count": 3,
   "metadata": {
    "collapsed": false
   },
   "outputs": [],
   "source": [
    "Svar:"
   ]
  },
  {
   "cell_type": "markdown",
   "metadata": {},
   "source": [
    "<!-- --- begin solution of exercise --- -->\n",
    "**Løsning.**"
   ]
  },
  {
   "cell_type": "code",
   "execution_count": 4,
   "metadata": {
    "collapsed": false
   },
   "outputs": [],
   "source": [
    "print(proks_tubulus[:2])\n",
    "print(proks_tubulus[2:])"
   ]
  },
  {
   "cell_type": "markdown",
   "metadata": {},
   "source": [
    "<!-- --- end solution of exercise --- -->\n",
    "_____________________________-\n",
    "\n",
    "I Python kan vi også lagre informasjon som *dictionaries*. En dictionary ligner på en liste, men kan ha andre type indekser enn tall, for eksempel en string. Vi kaller indeksene for *keywords* eller *keys* og verdien som tilhører hvert keyword for *value*.\n",
    "\n",
    "Her er en oversikt fra BIOS1100-boka som viser hvordan man lager og bruker dictionaries.\n",
    "\n",
    "<table border=\"1\">\n",
    "<thead>\n",
    "<tr><th align=\"center\">       Syntax       </th> <th align=\"center\">                 Description                  </th> <th align=\"center\">         Result         </th> </tr>\n",
    "</thead>\n",
    "<tbody>\n",
    "<tr><td align=\"left\">   <code>D = { }</code>               </td> <td align=\"left\">   Initialize an empty dictionary <code>D</code>                </td> <td align=\"left\">   <code>{}</code>                        </td> </tr>\n",
    "<tr><td align=\"left\">   <code>D = {\"A\":0, 100:2}</code>    </td> <td align=\"left\">   Initialize a dictionary <code>D</code>                       </td> <td align=\"left\">   <code>{\"A\":0, 100:2}</code>            </td> </tr>\n",
    "<tr><td align=\"left\">   <code>D[\"C\"] = [2, 3, 10]</code>           </td> <td align=\"left\">   Set or create a key <code>\"C\"</code> with value 10           </td> <td align=\"left\">   <code>{\"A\":0, 100:2, \"C\":[2, 3, 10]}</code>    </td> </tr>\n",
    "<tr><td align=\"left\">   <code>D[\"A\"]</code>                </td> <td align=\"left\">   Value associated with key <code>\"A\"</code>                   </td> <td align=\"left\">   <code>0</code>                         </td> </tr>\n",
    "<tr><td align=\"left\">   <code>D.get(\"A\")</code>            </td> <td align=\"left\">   Value of <code>\"A\"</code> if <code>\"A\"</code> is in <code>D</code>, else <code>None</code>    </td> <td align=\"left\">   <code>0</code>                         </td> </tr>\n",
    "<tr><td align=\"left\">   <code>\"A\" in D</code>              </td> <td align=\"left\">   Check if <code>\"A\"</code> is in <code>D</code>                          </td> <td align=\"left\">   <code>True</code>                      </td> </tr>\n",
    "<tr><td align=\"left\">   <code>len(D)</code>                </td> <td align=\"left\">   Number of key value pairs in <code>D</code>                  </td> <td align=\"left\">   <code>3</code>                         </td> </tr>\n",
    "<tr><td align=\"left\">   <code>del D[\"C\"]</code>            </td> <td align=\"left\">   Remove <code>\"C\"</code> and its value from <code>D</code>               </td> <td align=\"left\">   <code>{\"A\":0, 100:2}</code>            </td> </tr>\n",
    "<tr><td align=\"left\">   <code>D.keys()</code>              </td> <td align=\"left\">   Get a view of all keys in <code>D</code>                     </td> <td align=\"left\">   <code>dict_keys([\"A\", 100])</code>     </td> </tr>\n",
    "<tr><td align=\"left\">   <code>D.values()</code>            </td> <td align=\"left\">   Get a view of all values in <code>D</code>                   </td> <td align=\"left\">   <code>dict_values([0, 2])</code>       </td> </tr>\n",
    "<tr><td align=\"left\">   <code>D.copy()</code>              </td> <td align=\"left\">   Copy a dictionary <code>D</code>                             </td> <td align=\"left\">   <code>{\"A\": 0, 100: 2}</code>          </td> </tr>\n",
    "</tbody>\n",
    "</table>\n",
    "\n",
    "I kodecellen under lager vi en dictionary Proks, som inneholder informasjon om hvilke stoffer som blir reabsorbert og secernert i proksimale tubulus:"
   ]
  },
  {
   "cell_type": "code",
   "execution_count": 5,
   "metadata": {
    "collapsed": false
   },
   "outputs": [],
   "source": [
    "Proks = {'reabsorpsjon': ['HCO3-', 'NaCl', 'H2O', 'K+', 'næringsstoffer'],\n",
    "                 'sekresjon': ['H+', 'NH3']}"
   ]
  },
  {
   "cell_type": "markdown",
   "metadata": {},
   "source": [
    "**b)**\n",
    "Bruk dictionaryen Proks til å printe ut navnene på alle stoffer (values) som blir\n",
    "1. reabsorbert\n",
    "\n",
    "2. secernert\n",
    "\n",
    "(keys) i proksimale tubulus. Se tabell (linje 4) for hint."
   ]
  },
  {
   "cell_type": "code",
   "execution_count": 6,
   "metadata": {
    "collapsed": false
   },
   "outputs": [],
   "source": [
    "Svar:"
   ]
  },
  {
   "cell_type": "markdown",
   "metadata": {},
   "source": [
    "<!-- --- begin solution of exercise --- -->\n",
    "**Løsning.**"
   ]
  },
  {
   "cell_type": "code",
   "execution_count": 7,
   "metadata": {
    "collapsed": false
   },
   "outputs": [],
   "source": [
    "print(Proks['reabsorpsjon'])\n",
    "print(Proks['sekresjon'])"
   ]
  },
  {
   "cell_type": "markdown",
   "metadata": {},
   "source": [
    "<!-- --- end solution of exercise --- -->\n",
    "\n",
    "**c)**\n",
    "Lag tilsvarende dictionaries for de andre delene av tubulussystemet. Bruk 'reabsorpsjon', 'sekresjon', eller 'ekskresjon' som keywords."
   ]
  },
  {
   "cell_type": "code",
   "execution_count": 8,
   "metadata": {
    "collapsed": false
   },
   "outputs": [],
   "source": [
    "Henles_ned = {'reabsorpsjon': ['H2O']}\n",
    "Henles_opp = {} # fyll inn\n",
    "Dist = {} # fyll inn\n",
    "Samlerør = {} # fyll inn"
   ]
  },
  {
   "cell_type": "markdown",
   "metadata": {},
   "source": [
    "<!-- --- begin solution of exercise --- -->\n",
    "**Løsning.**"
   ]
  },
  {
   "cell_type": "code",
   "execution_count": 9,
   "metadata": {
    "collapsed": false
   },
   "outputs": [],
   "source": [
    "Henles_ned = {'reabsorpsjon': ['H2O']}\n",
    "Henles_opp = {'reabsorpsjon': ['NaCl']}\n",
    "Dist = {'reabsorpsjon': ['NaCl', 'H2O', 'HCO3-'],\n",
    "        'sekresjon': ['K+', 'H+']}\n",
    "Samlerør = {'reabsorpsjon': ['NaCl', 'Urea', 'H2O'],\n",
    "            'ekskresjon': ['H2O', 'NaCl', 'K+', 'HCO3-', 'kreatinin', 'urea']}"
   ]
  },
  {
   "cell_type": "markdown",
   "metadata": {},
   "source": [
    "<!-- --- end solution of exercise --- -->\n",
    "\n",
    "_____________________________-\n",
    "For å samle all informasjonen vår legger vi alle dictionaries som vi har laget til nå inni én stor dictionary T (T for tubulussystemet)."
   ]
  },
  {
   "cell_type": "code",
   "execution_count": 10,
   "metadata": {
    "collapsed": false
   },
   "outputs": [],
   "source": [
    "T = {'proksimale tubulus': Proks,\n",
    "     'henles sløyfe nedadgående': Henles_ned,\n",
    "     'henles sløyfe oppadgående': Henles_opp,\n",
    "     'distale tubulus': Dist,\n",
    "     'samlerør': Samlerør}"
   ]
  },
  {
   "cell_type": "markdown",
   "metadata": {},
   "source": [
    "Vi har nå en \"nested dictionary\", dvs en dictionary som inneholder dictionaries.\n",
    "Hvis vi printer dictionaryen direkte, ser den litt rotete ut:"
   ]
  },
  {
   "cell_type": "code",
   "execution_count": 11,
   "metadata": {
    "collapsed": false
   },
   "outputs": [],
   "source": [
    "print(T)"
   ]
  },
  {
   "cell_type": "markdown",
   "metadata": {},
   "source": [
    "Hvis vi kjører koden under, får vi en bedre oversikt over hva T inneholder:"
   ]
  },
  {
   "cell_type": "code",
   "execution_count": 12,
   "metadata": {
    "collapsed": false
   },
   "outputs": [],
   "source": [
    "for part in T.keys():\n",
    "    print(part)\n",
    "    for prosess in T[part]:\n",
    "        print('    ' + prosess + ': ', T[part][prosess])"
   ]
  },
  {
   "cell_type": "markdown",
   "metadata": {},
   "source": [
    "_____________________________-\n",
    "Vi kan få ut en liste med alle keywords i en dictionary med følgende funksjonskall:"
   ]
  },
  {
   "cell_type": "code",
   "execution_count": 13,
   "metadata": {
    "collapsed": false
   },
   "outputs": [],
   "source": [
    "T.keys()"
   ]
  },
  {
   "cell_type": "markdown",
   "metadata": {},
   "source": [
    "**d)**\n",
    "Lag en for-løkke som går gjennom alle keywords i dictionaryen T. Print hvert keyword."
   ]
  },
  {
   "cell_type": "code",
   "execution_count": 14,
   "metadata": {
    "collapsed": false
   },
   "outputs": [],
   "source": [
    "Svar:"
   ]
  },
  {
   "cell_type": "markdown",
   "metadata": {},
   "source": [
    "<!-- --- begin solution of exercise --- -->\n",
    "**Løsning.**"
   ]
  },
  {
   "cell_type": "code",
   "execution_count": 15,
   "metadata": {
    "collapsed": false
   },
   "outputs": [],
   "source": [
    "for part in T.keys():\n",
    "    print(part)"
   ]
  },
  {
   "cell_type": "markdown",
   "metadata": {},
   "source": [
    "<!-- --- end solution of exercise --- -->\n",
    "_____________________________-\n",
    "For å sjekke om det er sekresjon i proksimale tubulus, kan vi lage en if-test."
   ]
  },
  {
   "cell_type": "code",
   "execution_count": 16,
   "metadata": {
    "collapsed": false
   },
   "outputs": [],
   "source": [
    "part = 'proksimale tubulus' # endre denne linja\n",
    "prosess = 'sekresjon' # endre denne linja\n",
    "\n",
    "if prosess in T[part]:\n",
    "    print('Vi har ' + prosess + ' i ' + part + '.')\n",
    "else:\n",
    "    print('Vi har ingen' + prosess + ' i ' + part + '.')"
   ]
  },
  {
   "cell_type": "markdown",
   "metadata": {},
   "source": [
    "**e)**\n",
    "Den ene på gruppa velger én del av tubulus og én prosess, og bytter ut de to øverste linjene i kodecellen over. Den andre studenten skal gjette om denne prosessen skjer i denne delen av tubulussystemet eller ikke. Kjør koden og vis svaret. Gjør dette én gang hver.\n",
    "(Trenger ikke svare skriftlig.)\n",
    "\n",
    "**f)**\n",
    "Lag et program med en dobbel if-test.\n",
    "Den første testen skal sjekke om en bestemt **prosess** finner sted i en bestemt del av tubulus.\n",
    "Den neste testen skal sjekke om et bestemt **stoff** er med i denne prosessen.\n",
    "Hvis begge testene returnerer True, skal programmet printe en setning som forteller hvilken prosess av hvilket stoff som skjer i hvilken tubulus-del."
   ]
  },
  {
   "cell_type": "code",
   "execution_count": 17,
   "metadata": {
    "collapsed": false
   },
   "outputs": [],
   "source": [
    "part = '' # fyll inn navn på tubulus-del\n",
    "prosess = '' # fyll inn prosess\n",
    "stoff = '' # fyll inn stoff\n",
    "if __ in T[part]: # fyll inn det som mangler\n",
    "    if __ in T[part][prosess]: # fyll inn det som mangler\n",
    "        print() # skriv inn print statement"
   ]
  },
  {
   "cell_type": "markdown",
   "metadata": {},
   "source": [
    "<!-- --- begin solution of exercise --- -->\n",
    "**Løsning.**"
   ]
  },
  {
   "cell_type": "code",
   "execution_count": 18,
   "metadata": {
    "collapsed": false
   },
   "outputs": [],
   "source": [
    "part =  'proksimale tubulus'\n",
    "prosess = 'reabsorpsjon'\n",
    "stoff = 'H2O'\n",
    "if prosess in T[part] :\n",
    "    if stoff in T[part][prosess]:\n",
    "        print('Vi har ' + prosess + ' av ' + stoff + ' i ' + part + '.')"
   ]
  },
  {
   "cell_type": "markdown",
   "metadata": {},
   "source": [
    "<!-- --- end solution of exercise --- -->\n",
    "\n",
    "_____________________________-\n",
    "\n",
    "I denne siste deloppgaven har vi gjentatt koden fra oppgaven over. MEN: istedenfor å sette \"part = ' ' \" på forhånd, har vi brukt en for-løkke til å gå gjennom alle delene av tubulussystemet i T.\n",
    "Koden gjør følgende:\n",
    "1. Går gjennom alle keywords i T (alle deler av tubulus)\n",
    "\n",
    "2. Sjekker om en bestemt prosess finnes i denne delen av T\n",
    "\n",
    "3. Hvis 2 stemmer: Sjekker om dette stoffet er en del av denne prosessen\n",
    "\n",
    "4. Hvis både 2 og 3 stemmer: Printer navnet på tubulus-delen som vi har sjekket"
   ]
  },
  {
   "cell_type": "code",
   "execution_count": 19,
   "metadata": {
    "collapsed": false
   },
   "outputs": [],
   "source": [
    "prosess = 'reabsorpsjon'\n",
    "stoff = 'H2O'\n",
    "\n",
    "print('Disse delene av tubulus sørger for ' + prosess + ' av ' + stoff + ':')\n",
    "for part in T.keys():                 # for-løkke som gå gjennom alle keywords i T\n",
    "    if prosess in T[part]:            # if-test som sjekker om prosess finnes i T[part]\n",
    "        if stoff in T[part][prosess]: # if-test som sjekker om stoff er del av prosess\n",
    "            print('- ' + part)        # print navn på tubulus-del (keyword)"
   ]
  },
  {
   "cell_type": "markdown",
   "metadata": {},
   "source": [
    "**g)**\n",
    "Den ene studenten bestemmer en prosess og et stoff, for eksempel reabsorpsjon og H2O. Den andre skal dermed si i hvilke deler av tubulussystemet vi har reabsorpsjon av H2O. Kjør koden for å sjekke svaret. Gjør dette minimum 3 ganger hver, eller til dere har lært hvilke stoffer som inngår i reabsorpsjon/ sekresjon/ eksresjon i de ulike delene av tubulussystemet. Diskutér gjerne også hvor transporten er aktiv og passiv.\n",
    "\n",
    "\n",
    "<!-- --- end exercise --- -->\n",
    "\n",
    "\n",
    "\n",
    "\n",
    "<!-- --- begin exercise --- -->\n",
    "\n",
    "## Oppgave 2: Tubulussystemet\n",
    "\n",
    "Etter at du har gjort denne oppgaven skal du kunne forklare hvilke deler av tubulussystemet som sørger for reabsorpsjon, sekresjon og ekskresjon av ulike stoffer i et nefron.\n",
    "\n",
    "I tilleg får du et lite innblikk i følgende funksjonaliteter i programmeringsspråket python:\n",
    "* lister\n",
    "\n",
    "* dictionaries\n",
    "\n",
    "* for-løkker\n",
    "\n",
    "* if-tester\n",
    "\n",
    "_____________________________-\n",
    "I Python har vi ulike måter å lagre informasjon på. Vi kan bruke lister, som ser ut som dette:"
   ]
  },
  {
   "cell_type": "code",
   "execution_count": 20,
   "metadata": {
    "collapsed": false
   },
   "outputs": [],
   "source": [
    "proks_tubulus = ['H+', 'NH3', 'HCO3-', 'NaCl', 'H2O', 'K+', 'næringsstoffer']"
   ]
  },
  {
   "cell_type": "markdown",
   "metadata": {},
   "source": [
    "Dette er en liste som inneholder noen stoffer som secerneres (sekresjon) og reabsorberes i proksimale tubulus.\n",
    "\n",
    "\n",
    "**a)**\n",
    "Hvilke av stoffene secerneres og hvilke reabsorberes?"
   ]
  },
  {
   "cell_type": "markdown",
   "metadata": {},
   "source": [
    "        Svar:\n"
   ]
  },
  {
   "cell_type": "markdown",
   "metadata": {},
   "source": [
    "<!-- --- begin solution of exercise --- -->\n",
    "**Løsning.**"
   ]
  },
  {
   "cell_type": "code",
   "execution_count": 21,
   "metadata": {
    "collapsed": false
   },
   "outputs": [],
   "source": [
    "print('Reabsorpsjon:', proks_tubulus[2:])\n",
    "print('Sekresjon:', proks_tubulus[:2])"
   ]
  },
  {
   "cell_type": "markdown",
   "metadata": {},
   "source": [
    "<!-- --- end solution of exercise --- -->\n",
    "_____________________________-\n",
    "For å kategorisere informasjonen litt bedre kan vi bruke en såkalt *dictionary*:\n",
    "Dictionaryen \"Proks\" gir en oversikt over hvilke stoffer som inngår i reabsorpsjon og sekresjon i proksimale tubulus.\n",
    "\n",
    "**b)**\n",
    "Bruk det dere fant ut i deloppgaven over, og rett feilene i Proks:"
   ]
  },
  {
   "cell_type": "code",
   "execution_count": 22,
   "metadata": {
    "collapsed": false
   },
   "outputs": [],
   "source": [
    "Proks = {'reabsorpsjon': ['HCO3-', 'næringsstoffer'],\n",
    "                 'sekresjon': ['H+', 'H2O']}"
   ]
  },
  {
   "cell_type": "markdown",
   "metadata": {},
   "source": [
    "<!-- --- begin solution of exercise --- -->\n",
    "**Løsning.**"
   ]
  },
  {
   "cell_type": "code",
   "execution_count": 23,
   "metadata": {
    "collapsed": false
   },
   "outputs": [],
   "source": [
    "Proks = {'reabsorpsjon': ['HCO3-', 'NaCl', 'H2O', 'K+', 'næringsstoffer'],\n",
    "                 'sekresjon': ['H+', 'NH3']}"
   ]
  },
  {
   "cell_type": "markdown",
   "metadata": {},
   "source": [
    "<!-- --- end solution of exercise --- -->\n",
    "\n",
    "_____________________________-\n",
    "I kodecellen under har vi laget en såkalt \"nested dictionary\", dvs en dictionary som inneholder dictionaries.\n",
    "\n",
    "**c)**\n",
    "Fyll inn koden under sånn at den gir korrekt informasjon om alle stoffer som reabsorberes/ secerneres (sekresjon)/ utskilles (ekskresjon) i de forskjellige delene av tubulussystemet."
   ]
  },
  {
   "cell_type": "code",
   "execution_count": 24,
   "metadata": {
    "collapsed": false
   },
   "outputs": [],
   "source": [
    "T = {'proksimale tubulus': {'reabsorpsjon': ['HCO3-', 'næringsstoffer'],\n",
    "                            'sekresjon': ['H+', 'H2O']},\n",
    "     'henles sløyfe nedadgående': {'reabsorpsjon': []},\n",
    "     'henles sløyfe oppadgående': {'reabsorpsjon': []},\n",
    "     'distale tubulus': {'reabsorpsjon': [],\n",
    "                         'sekresjon': []},\n",
    "     'samlerør': {'reabsorpsjon': [],\n",
    "                 'ekskresjon': []}\n",
    "      }"
   ]
  },
  {
   "cell_type": "markdown",
   "metadata": {},
   "source": [
    "Kjør kodecellen under for å få en oversikt over innholdet i T. Sjekk med en annen gruppe at svarene deres stemmer overens."
   ]
  },
  {
   "cell_type": "code",
   "execution_count": 25,
   "metadata": {
    "collapsed": false
   },
   "outputs": [],
   "source": [
    "for part in T.keys():\n",
    "    print(part)\n",
    "    for prosess in T[part]:\n",
    "        print('    ' + prosess + ': ', T[part][prosess])"
   ]
  },
  {
   "cell_type": "markdown",
   "metadata": {},
   "source": [
    "I koden over bruker vi for-løkker for å gå gjennom alle delene av T.\n",
    "\n",
    "\n",
    "<!-- --- begin solution of exercise --- -->\n",
    "**Løsning.**"
   ]
  },
  {
   "cell_type": "code",
   "execution_count": 26,
   "metadata": {
    "collapsed": false
   },
   "outputs": [],
   "source": [
    "T = {'proksimale tubulus': {'reabsorpsjon': ['HCO3-', 'næringsstoffer'],\n",
    "                            'sekresjon': ['H+', 'H2O']},\n",
    "     'henles sløyfe nedadgående': {'reabsorpsjon': ['H2O']},\n",
    "     'henles sløyfe oppadgående': {'reabsorpsjon': ['NaCl']},\n",
    "     'distale tubulus': {'reabsorpsjon': ['NaCl', 'H2O', 'HCO3-'],\n",
    "                         'sekresjon': ['K+', 'H+']},\n",
    "     'samlerør': {'reabsorpsjon': ['NaCl', 'Urea', 'H2O'],\n",
    "                 'ekskresjon': ['H2O', 'NaCl', 'K+', 'HCO3-', 'kreatinin', 'urea']}\n",
    "      }"
   ]
  },
  {
   "cell_type": "markdown",
   "metadata": {},
   "source": [
    "<!-- --- end solution of exercise --- -->\n",
    "_____________________________-\n",
    "For å sjekke om det er sekresjon i proksimale tubulus, kan vi lage en if-test:"
   ]
  },
  {
   "cell_type": "code",
   "execution_count": 27,
   "metadata": {
    "collapsed": false
   },
   "outputs": [],
   "source": [
    "part = 'proksimale tubulus' # endre denne linja\n",
    "prosess = 'sekresjon' # endre denne linja\n",
    "\n",
    "if prosess in T[part]:\n",
    "    print('Vi har ' + prosess + ' i ' + part + '.')\n",
    "else:\n",
    "    print('Vi har ingen' + prosess + ' i ' + part + '.')"
   ]
  },
  {
   "cell_type": "markdown",
   "metadata": {},
   "source": [
    "**d)**\n",
    "Den ene på gruppa velger én del av tubulus og én prosess. Deretter kan hun/han bytte ut de to øverste linjene i koden over.\n",
    "Den andre studenten skal gjette om den valgte prosessen finner sted i den valgte delen av tubulus.\n",
    "Kjør koden for å vise svaret.\n",
    "Gjør dette én gang hver, og skriv ned svarene under:"
   ]
  },
  {
   "cell_type": "markdown",
   "metadata": {},
   "source": [
    "        Svar:\n"
   ]
  },
  {
   "cell_type": "markdown",
   "metadata": {},
   "source": [
    "I denne siste deloppgaven har vi gjentatt koden fra oppgaven over. MEN: istedenfor å sette \"part = ' ' \" på forhånd, har vi brukt en for-løkke til å gå gjennom alle delene av tubulussystemet i T.\n",
    "Koden gjør følgende:\n",
    "1. Går gjennom alle keywords i T (alle deler av tubulus)\n",
    "\n",
    "2. Sjekker om en bestemt prosess finnes i denne delen av T\n",
    "\n",
    "3. Hvis 2 stemmer: Sjekker om dette stoffet er en del av denne prosessen\n",
    "\n",
    "4. Hvis både 2 og 3 stemmer: Printer navnet på tubulus-delen som vi har sjekket"
   ]
  },
  {
   "cell_type": "code",
   "execution_count": 28,
   "metadata": {
    "collapsed": false
   },
   "outputs": [],
   "source": [
    "prosess = 'reabsorpsjon'\n",
    "stoff = 'H2O'\n",
    "print('Disse delene av tubulus sørger for ' + prosess + ' av ' + stoff + ':')\n",
    "\n",
    "for part in T.keys():                 # for-løkke som gå gjennom alle keywords i T\n",
    "    if prosess in T[part]:            # if-test som sjekker om prosess finnes i T[part]\n",
    "        if stoff in T[part][prosess]: # if-test som sjekker om stoff er del av prosess\n",
    "            print('- ' + part)        # print navn på tubulus-del (keyword)"
   ]
  },
  {
   "cell_type": "markdown",
   "metadata": {},
   "source": [
    "**e)**\n",
    "Den ene studenten bestemmer en prosess og et stoff, for eksempel reabsorpsjon og H2O. Den andre skal dermed si i hvilke deler av tubulussystemet vi har reabsorpsjon av H2O. Kjør koden for å sjekke svaret. Gjør dette minimum 3 ganger hver, eller til dere har lært hvilke stoffer som inngår i reabsorpsjon/ sekresjon/ eksresjon i de ulike delene av tubulussystemet. Diskutér gjerne også hvor transporten er aktiv og passiv.\n",
    "\n",
    "<!-- --- end exercise --- -->"
   ]
  }
 ],
 "metadata": {},
 "nbformat": 4,
 "nbformat_minor": 2
}
