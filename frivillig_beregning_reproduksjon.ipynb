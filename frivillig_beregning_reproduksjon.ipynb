{
 "cells": [
  {
   "cell_type": "markdown",
   "metadata": {},
   "source": [
    "<!-- --- begin exercise --- -->\n",
    "\n",
    "## Oppgave 1: Farten til en spermcelle\n",
    "<div id=\"ex:reproduksjon\"></div>\n",
    "\n",
    "Farten til en spermcelle er viktig for fertiliteten. I 2015 viste Daniel T. N. Chen og medarbeidere at en flagell slår med en maksimumsfrekvens på om lag 19 Hz i et medium med lav viskositet (tyktfytende væske). Hele artikkelen finner dere [her](https://www.ncbi.nlm.nih.gov/pmc/articles/PMC4699893/).\n",
    "\n",
    "Det er denne mekanismen som hjelper spermcellen å reise opp livmorhalsen (cervix), gjennom livmorhulen, og opp egglederen til den treffer egget. Distansen spermcellen må tilbakelegge er omlag 10-15 cm, dvs 4000 ganger dens egen lengde på 25 $\\mathrm{\\mu}$m.\n",
    "\n",
    "I et eksperiment av D. F. Katz og medarbeidere fra 1978 kan vi se at cella, i sekret fra midten av menstrasjonssyklus, beveger seg med en slagfrekvens på omlag 16 Hz når temperaturen er 37$^\\circ$C. Det gir en fremdrift på omlag 35 $\\mathrm{\\mu}$m/s.\n",
    "\n",
    "\n",
    "**a)**\n",
    "Lag et program som regner ut tiden det tar for spermcellen å nå fram til egget.\n",
    "\n"
   ]
  },
  {
   "cell_type": "markdown",
   "metadata": {},
   "source": [
    "\n",
    "\n",
    "**b)**\n",
    "Lag et tilsvarende program med en python-funksjon. Funksjonen skal ta argumentene avstand $x$ (cm) og fart $v$ ($\\mathrm{\\mu}$m/s).\n",
    "\n",
    "Tips: Python-funksjonen \"input()\" kan brukes til å be brukeren om en variabel, hvis du ønsker å lage et mer interaktivt program!\n",
    "\n"
   ]
  },
  {
   "cell_type": "markdown",
   "metadata": {},
   "source": [
    "\n",
    "**c)**\n",
    "I Chen et al. (2015) hevdes det at flagellen bruker $2.3 \\cdot10^5$ ATP-molekyler for hvert slag. Hvor mange slag utgjør hele turen, og hvor mye ATP brukes? Lag et program som regner det ut.\n",
    "\n"
   ]
  },
  {
   "cell_type": "markdown",
   "metadata": {},
   "source": [
    "\n",
    "**d)**\n",
    "Hydrolyse av ATP gir 30,5 kJ/mol. Hvor mye energi krever turen til spermcellen? Lag et program som regner det ut!\n",
    "\n",
    "Husk: kJ = 1000 Joule,\n",
    "1 mol = $\\mathrm{N_a}$ molekyler,\n",
    "der Avogadros tall $\\mathrm{N_a}$ = $6.022\\cdot10^{23}$.\n",
    "\n"
   ]
  },
  {
   "cell_type": "markdown",
   "metadata": {},
   "source": [
    "\n",
    "<!-- --- end exercise --- -->"
   ]
  }
 ],
 "metadata": {},
 "nbformat": 4,
 "nbformat_minor": 2
}