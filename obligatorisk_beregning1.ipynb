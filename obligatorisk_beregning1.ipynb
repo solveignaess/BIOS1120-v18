{
 "cells": [
  {
   "cell_type": "markdown",
   "metadata": {},
   "source": [
    "<!-- dom:TITLE: CSE1: Sirkulasjon -->\n",
    "# CSE1: Sirkulasjon\n",
    "<!-- AUTHOR: Solveig Næss -->\n",
    "\n",
    "<!-- DATE: today -->\n",
    "\n",
    "<!-- TOC: on -->\n",
    "\n",
    "Denne oppgaven skal leveres i grupper på to.\n",
    "Start med å lage en kopi av denne fila: Trykk på File; Make a copy.\n",
    "\n",
    "Endre deretter navnet på kopien til: EtternavnFornavn_EtternavnFornavn_CSE1.ipynb. \n",
    "Dersom dere heter Harry Potter og Isaac Newton, skal filnavnet altså være: PotterHarry_NewtonIsaac_CSE1.ipynb\n",
    "\n",
    "Denne fila skal leveres på CANVAS under CSE1: Sirkulasjon.\n",
    "Leveringsfristen er 30.02, klokka 23.59.\n",
    "\n",
    "For å få oppgaven godkjent må alle deloppgaver være besvart. Dere må kun gjøre oppgave 3 eller oppgave 4.\n",
    "\n",
    "\n",
    "\n",
    "**Etter at dere har gjort denne oppgaven skal dere kunne forklare**\n",
    "* sammenhengen mellom blodstrøm, blodtrykksendring og motstand i en blodåre\n",
    "\n",
    "* hvordan viskositet, lengde og radius påvirker blodstrøm og blodtrykksendringen i en blodåre\n",
    "\n",
    "\n",
    "\n",
    "\n",
    "\n",
    "<!-- --- begin exercise --- -->\n",
    "\n",
    "## Oppgave 1: Blodstrøm, blodtrykksendring og motstand\n",
    "<div id=\"ex:flow\"></div>\n",
    "\n",
    "I kapittel 47 kan dere lese om hvordan blodstrøm i en blodåre er avhengig av\n",
    "blodtrykksendring og motstand i åren. Dette kan beskrives av\n",
    "Pouiseuille-likningen:"
   ]
  },
  {
   "cell_type": "markdown",
   "metadata": {},
   "source": [
    "<!-- Equation labels as ordinary links -->\n",
    "<div id=\"eq:flow\"></div>\n",
    "\n",
    "$$\n",
    "\\begin{equation} \\label{eq:flow} \\tag{1}\n",
    "q_v = \\frac{\\Delta p}{R},\n",
    "\\end{equation}\n",
    "$$"
   ]
  },
  {
   "cell_type": "markdown",
   "metadata": {},
   "source": [
    "* $q_v$ er blodets volumstrøm (blodstrøm eller flow) og måles i $\\mathrm{m^3/s}$ eller $\\mathrm{l/min}$.\n",
    "\n",
    "* $\\Delta p$ er blodtrykksendringen i åra og måles i millimeter kvikksølv ($\\mathrm{mmHg}$) eller pascal ($\\mathrm{Pa}$).\n",
    "\n",
    "* $R$ er motstanden i blodåra og måles i $\\mathrm{Pa*s/m^3}$ eller $\\mathrm{mmHg*min/l}$.\n",
    "\n",
    "**a)**\n",
    "Bruk formelen ovenfor og diskuter i gruppa:\n",
    "* Hva vil skje med blodstrømmen dersom blodtrykksendringen øker?\n",
    "\n",
    "* Hva vil skje med blodstrømmen dersom motstanden i blodåren øker?\n",
    "\n",
    "<div class=\"alert alert-block alert-info\">\n",
    "I denne oppgaven skal dere bruke kodecellen (den grå boksen) nedenfor\n",
    "til å svare på spørsmålene. For å kjøre programmet i kodecellen\n",
    "kan dere trykke på cellen slik at den får en grønn ramme.\n",
    "Trykk deretter shift+enter eller velg \"Run\" (play) i menyen øverst på siden."
   ]
  },
  {
   "cell_type": "code",
   "execution_count": 1,
   "metadata": {
    "collapsed": false
   },
   "outputs": [],
   "source": [
    "%matplotlib inline\n",
    "\n",
    "import numpy as np\n",
    "from __future__ import division\n",
    "from ipywidgets import widgets, fixed\n",
    "import matplotlib.pyplot as plt\n",
    "\n",
    "def flow(R):\n",
    "    delta_p = np.linspace(80, 140, 7)\n",
    "    q_v = delta_p/R\n",
    "    plt.plot(delta_p, q_v)\n",
    "    plt.xlabel(r'$\\Delta p  (mmHg)$', fontsize=20)\n",
    "    plt.ylabel(r'$q_v  (l/min)$', fontsize=20)\n",
    "    plt.ylim([0.08, 8])\n",
    "\n",
    "slider = widgets.interact(flow,\n",
    "                          R=widgets.IntSlider(min=20., max=100., step=10., value=20.)\n",
    "                          )"
   ]
  },
  {
   "cell_type": "markdown",
   "metadata": {},
   "source": [
    "**b)**\n",
    "Hvordan endres blodstrømmen når blodtrykksendringen i blodåren øker? Bruk grafen.\n",
    "(Skriv svaret under ved å dobbeltklikke på \"Svar:\".)"
   ]
  },
  {
   "cell_type": "markdown",
   "metadata": {},
   "source": [
    "        Svar:\n"
   ]
  },
  {
   "cell_type": "markdown",
   "metadata": {},
   "source": [
    "<!-- --- begin solution of exercise --- -->\n",
    "**Løsning.**\n",
    "Blodstrømmen er proporsjonal med blodtrykksendringen. Økt blodtrykksendring\n",
    "fører til økt blodstrøm.\n",
    "\n",
    "<!-- --- end solution of exercise --- -->\n",
    "\n",
    "**c)**\n",
    "Hvordan endres blodstrømmen dersom motstanden i blodåren øker?\n",
    "Dere kan endre på motstanden $R$ ved å bevege slideren over plottet."
   ]
  },
  {
   "cell_type": "markdown",
   "metadata": {},
   "source": [
    "        Svar:\n"
   ]
  },
  {
   "cell_type": "markdown",
   "metadata": {},
   "source": [
    "<!-- --- begin solution of exercise --- -->\n",
    "**Løsning.**\n",
    "Blodstrømmen er omvendt proporsjonal med motstanden.\n",
    "Økt motstand i blodåren fører til lavere blodstrøm.\n",
    "\n",
    "<!-- --- end solution of exercise --- -->\n",
    "\n",
    "\n",
    "Stemte dette overens med det dere kom fram til i Oppgave 1a?\n",
    "\n",
    "<!-- --- end exercise --- -->\n",
    "\n",
    "\n",
    "\n",
    "\n",
    "<!-- --- begin exercise --- -->\n",
    "\n",
    "## Oppgave 2: Hva påvirker blodårens motstand?\n",
    "\n",
    "Under har vi en formel som beskriver hvordan motstanden mot blodstrøm i cellen\n",
    "avhenger av ulike parametere."
   ]
  },
  {
   "cell_type": "markdown",
   "metadata": {},
   "source": [
    "<!-- Equation labels as ordinary links -->\n",
    "<div id=\"eq:R\"></div>\n",
    "\n",
    "$$\n",
    "\\begin{equation} \\label{eq:R} \\tag{2}\n",
    "R = \\frac{8 \\eta l}{\\pi r^4},\n",
    "\\end{equation}\n",
    "$$"
   ]
  },
  {
   "cell_type": "markdown",
   "metadata": {},
   "source": [
    "der $\\eta$ er blodets viskositet, og $l$ og $r$ er blodåras lengde og radius.\n",
    "\n",
    "\n",
    "**a)**\n",
    "Vil en dobling av viskositeten, en dobling av lengden eller en dobling av radien\n",
    " gi størst endring i blodårens motstand $R$?"
   ]
  },
  {
   "cell_type": "markdown",
   "metadata": {},
   "source": [
    "        Svar:\n"
   ]
  },
  {
   "cell_type": "markdown",
   "metadata": {},
   "source": [
    "<!-- --- begin solution of exercise --- -->\n",
    "**Løsning.**"
   ]
  },
  {
   "cell_type": "markdown",
   "metadata": {},
   "source": [
    "$$\n",
    "\\begin{align*}\n",
    "R(\\eta, 2l, r) &= \\frac{8 \\eta 2 l}{\\pi r^4} = 2R \\\\\n",
    "R(2\\eta, l, r) &= \\frac{8 \\cdot 2 \\eta l}{\\pi r^4} = 2R \\\\\n",
    "R(\\eta, l, 2r) &= \\frac{8 \\eta l}{\\pi (2r)^4} = \\frac{1}{16}R\n",
    "\\end{align*}\n",
    "$$"
   ]
  },
  {
   "cell_type": "markdown",
   "metadata": {},
   "source": [
    "En dobling av blodårens radius vil gi en motstand som utgjør $\\frac{1}{16}$\n",
    "av tidligere motstand. Dobling av lengde eller viskositet vil føre til en\n",
    "dobling av motstand. Endring av radius vil altså gi størst endring i motstanden.\n",
    "\n",
    "<!-- --- end solution of exercise --- -->\n",
    "\n",
    "\n",
    "\n",
    "<div class=\"alert alert-block alert-info\">\n",
    "Kjør kodecellen nedenfor.\n",
    "\n",
    "Koden bruker følgende enheter:\n",
    "\n",
    "$[\\eta] = \\mathrm{m Pa ~ s}$\n",
    "\n",
    "$[l] = \\mathrm{mm}$\n",
    "\n",
    "$[r] = \\mathrm{mm}$\n",
    "\n",
    "$[R] = \\mathrm{mmHg ~ min/l}$"
   ]
  },
  {
   "cell_type": "code",
   "execution_count": 2,
   "metadata": {
    "collapsed": false
   },
   "outputs": [],
   "source": [
    "import numpy as np\n",
    "from __future__ import division\n",
    "from ipywidgets import widgets, fixed\n",
    "import pylab\n",
    "\n",
    "def resistance(eta, r, l):\n",
    "    c_1 = 1e-3 #mPa to Pa\n",
    "    eta *= c_1\n",
    "    c_2 = 1e-3 #mm to m\n",
    "    l *= c_2\n",
    "    r *= c_2\n",
    "    R = (8*eta*l)/(np.pi*(r)**4)\n",
    "    c_3 = 760.*1e-3/(101.325*1e3*60)#from Pa s/m^3 to mmHG min/l\n",
    "    R *= c_3\n",
    "    return R\n",
    "\n",
    "slider = widgets.interact(resistance,\n",
    "                          eta=widgets.FloatSlider(min=2., max=3., step=0.1, value=2.5),\n",
    "                          r=widgets.FloatSlider(min=0.1, max=10., step=0.1, value=0.3),\n",
    "                          l=widgets.FloatSlider(min=1., max=300., step=1., value=100.)\n",
    "                         )"
   ]
  },
  {
   "cell_type": "markdown",
   "metadata": {},
   "source": [
    "**b)**\n",
    "Stemte hypotesen deres i oppgave a? Bruk sliderne og test."
   ]
  },
  {
   "cell_type": "markdown",
   "metadata": {},
   "source": [
    "        Svar:\n"
   ]
  },
  {
   "cell_type": "markdown",
   "metadata": {},
   "source": [
    "<!-- --- begin solution of exercise --- -->\n",
    "**Løsning.**\n",
    "Se løsning i oppgave a).\n",
    "\n",
    "<!-- --- end solution of exercise --- -->\n",
    "\n",
    "\n",
    "**c)**\n",
    "Vil det være størst motstand mot blodstrøm i aorta eller en tynn arteriole?"
   ]
  },
  {
   "cell_type": "markdown",
   "metadata": {},
   "source": [
    "        Svar:\n"
   ]
  },
  {
   "cell_type": "markdown",
   "metadata": {},
   "source": [
    "<!-- --- begin solution of exercise --- -->\n",
    "**Løsning.**\n",
    "Aorta har en radius på ca $10 \\mathrm{mm}$ og er ca $30 \\mathrm{cm}$ lang,\n",
    "mens en tynn arteriole har en radius på ca $0.1 \\mathrm{mm}$\n",
    "og er ca $1 \\mathrm{mm}$ lang. Viskositeten i blodet er konstant.\n",
    "Aorta er altså ca 300 ganger så lang og 100 ganger så tykk som arteriolen.\n",
    "Lengden vil bidra til en 300 ganger høyere motstand i aorta, mens radien vil\n",
    "bidra til en $1/100^4 = 10^{-8}$ ganger lavere motstand. Aorta har altså en\n",
    "motstand som tilsvarer $300/100^4 = 3*10^{-6} = 3$ milliondeler av motstanden\n",
    "i arteriolen.\n",
    "\n",
    "<!-- --- end solution of exercise --- -->\n",
    "\n",
    "\n",
    "**d)**\n",
    "I kroppen er to av variablene $\\eta$, $l$ og $r$ relativt konstante.\n",
    "Én av variablene reguleres i kroppen for å øke blodstrømmen, hvilken variabel er\n",
    " dette?"
   ]
  },
  {
   "cell_type": "markdown",
   "metadata": {},
   "source": [
    "        Svar:\n"
   ]
  },
  {
   "cell_type": "markdown",
   "metadata": {},
   "source": [
    "<!-- --- begin solution of exercise --- -->\n",
    "**Løsning.**\n",
    "Årene kan regulere tykkelsen for å regulere blodstrømmen. Se Campbell. Blodårens\n",
    "lengde og blodets viskositet er relativt konstante under normale omstendigheter.\n",
    "\n",
    "<!-- --- end solution of exercise --- -->\n",
    "\n",
    "\n",
    "<div class=\"alert alert-block alert-info\">\n",
    "Velg enten oppgave 3 eller oppgave 4."
   ]
  },
  {
   "cell_type": "markdown",
   "metadata": {},
   "source": [
    "\n"
   ]
  },
  {
   "cell_type": "markdown",
   "metadata": {},
   "source": [
    "<!-- --- end exercise --- -->\n",
    "\n",
    "\n",
    "\n",
    "\n",
    "<!-- --- begin exercise --- -->\n",
    "\n",
    "## Oppgave 3: Sant eller usant?\n",
    "\n",
    "Bruk likningene og pythonprogrammene ovenfor til å avgjøre om følgende påstander\n",
    "er sanne eller usanne.\n",
    "\n",
    "\n",
    "**a)**\n",
    "En blodåre har konstant viskositet, radius og lengde.\n",
    "Hvis blodstrømmen minker, vil blodtrykksendringen i blodåren øke."
   ]
  },
  {
   "cell_type": "markdown",
   "metadata": {},
   "source": [
    "        Svar:\n"
   ]
  },
  {
   "cell_type": "markdown",
   "metadata": {},
   "source": [
    "<!-- --- begin solution of exercise --- -->\n",
    "**Løsning.**\n",
    "Blodstrømmen er proporsjonal med blodtrykksendringen. $q_v$ og $\\Delta p$\n",
    "vil øke og minke proporsjonalt når motstanden er konstant. *Usant*.\n",
    "\n",
    "<!-- --- end solution of exercise --- -->\n",
    "\n",
    "\n",
    "**b)**\n",
    "Hvis viskositeten til blodet minker vil blodtrykket minke når blodstrøm,\n",
    "radius og lengde i blodåren er konstant."
   ]
  },
  {
   "cell_type": "markdown",
   "metadata": {},
   "source": [
    "        Svar:\n"
   ]
  },
  {
   "cell_type": "markdown",
   "metadata": {},
   "source": [
    "<!-- --- begin solution of exercise --- -->\n",
    "**Løsning.**\n",
    "Hvis viskositeten minker vil motstanden minke. Blodtrykksendring er proporsjonal\n",
    "med blodstrøm. Blodtrykksendring vil minke når viskositeten minker. *Sant*\n",
    "\n",
    "<!-- --- end solution of exercise --- -->\n",
    "\n",
    "\n",
    "**c)**\n",
    "Hvis radien i en blodåre dobles, blodtrykksendringen halveres, viskositeten dobles,\n",
    "og blodårens lengde er konstant vil blodstrømmen firedobles."
   ]
  },
  {
   "cell_type": "markdown",
   "metadata": {},
   "source": [
    "        Svar:\n"
   ]
  },
  {
   "cell_type": "markdown",
   "metadata": {},
   "source": [
    "<!-- --- begin solution of exercise --- -->\n",
    "**Løsning.**"
   ]
  },
  {
   "cell_type": "markdown",
   "metadata": {},
   "source": [
    "$$\n",
    "\\begin{align*}\n",
    "q_{v 1} &= \\frac{\\Delta p}{R} = \\frac{\\pi r^4 \\Delta p}{8 \\eta l} \\\\\n",
    "q_{v 2} &= \\frac{\\pi (2r)^4 0.5\\Delta p}{8 2\\eta l} \\\\\n",
    "     &= \\frac{16 0.5}{2} \\frac{\\pi r^4 \\Delta p}{8 \\eta l} \\\\\n",
    "     &= 4 \\frac{\\pi r^4 \\Delta p}{8 \\eta l} \\\\\n",
    "     &= 4 q_{v 1}\n",
    "\\end{align*}\n",
    "$$"
   ]
  },
  {
   "cell_type": "markdown",
   "metadata": {},
   "source": [
    "*Sant*.\n",
    "\n",
    "<!-- --- end solution of exercise --- -->\n",
    "\n",
    "\n",
    "<!-- --- end exercise --- -->\n",
    "\n",
    "\n",
    "\n",
    "\n",
    "<!-- --- begin exercise --- -->\n",
    "\n",
    "## Oppgave 4: Lag en egen pythonfunksjon\n",
    "\n",
    "I denne oppgaven skal dere bruke likningene og oppgavene over til å lage en\n",
    "pythonfunksjon som tar blodstrøm, viskositet, radius og lengde som argumenter,\n",
    "og regner ut blodtrykksendringen.\n",
    "\n",
    "\n",
    "**a)**\n",
    "Bruk formel 1 og 2, og finn formelen for blodtrykksendring som funksjon av\n",
    "blodstrøm, viskositet, lengde og radius."
   ]
  },
  {
   "cell_type": "markdown",
   "metadata": {},
   "source": [
    "        Svar:\n"
   ]
  },
  {
   "cell_type": "markdown",
   "metadata": {},
   "source": [
    "<!-- --- begin solution of exercise --- -->\n",
    "**Løsning.**"
   ]
  },
  {
   "cell_type": "markdown",
   "metadata": {},
   "source": [
    "$$\n",
    "\\begin{align*}\n",
    "q_v &= \\frac{\\Delta p}{R} \\\\\n",
    "    &= \\frac{\\pi r^4 \\Delta p}{8 \\eta l} \\\\\n",
    "\\implies \\Delta p &= \\frac{8 \\eta l q_v}{\\pi r^4}\n",
    "\\end{align*}\n",
    "$$"
   ]
  },
  {
   "cell_type": "markdown",
   "metadata": {},
   "source": [
    "<!-- --- end solution of exercise --- -->\n",
    "\n",
    "**b)**\n",
    "Lag en pythonfunksjon som tar tar blodtrykksendring, viskositet, radius og\n",
    "lengde som argumenter, og regner ut blodstrømmen."
   ]
  },
  {
   "cell_type": "code",
   "execution_count": 3,
   "metadata": {
    "collapsed": false
   },
   "outputs": [],
   "source": [
    "# skriv funksjonen din her:\n",
    "import numpy as np\n",
    "\n",
    "def"
   ]
  },
  {
   "cell_type": "markdown",
   "metadata": {},
   "source": [
    "<!-- --- begin solution of exercise --- -->\n",
    "**Løsning.**"
   ]
  },
  {
   "cell_type": "code",
   "execution_count": 4,
   "metadata": {
    "collapsed": false
   },
   "outputs": [],
   "source": [
    "def q(dp, eta, l, r):\n",
    "    q = (np.pi*r**4*dp)/(8*eta*l)\n",
    "    return q"
   ]
  },
  {
   "cell_type": "markdown",
   "metadata": {},
   "source": [
    "<!-- --- end solution of exercise --- -->\n",
    "\n",
    "**c)**\n",
    "Bruk funksjonen du lagde i forrige oppgave til å plotte blodstrømmen som\n",
    "funksjon av radius for en arteriole. Sett $\\Delta p = 0.015 Pa$,\n",
    "$\\eta = 0.0025 \\mathrm{Pa s}$, $l = 0.001 \\mathrm{m}$ og la $r$ gå fra $0.1$ til\n",
    "$0.4 \\mathrm{mm}$ som tilsvarer $0.0001 - 0.0004\\mathrm{m}$.\n",
    "Husk å skrive enheter på aksene."
   ]
  },
  {
   "cell_type": "code",
   "execution_count": 5,
   "metadata": {
    "collapsed": false
   },
   "outputs": [],
   "source": [
    "# plott blodstrøm på y-aksen, radius på x-aksen"
   ]
  },
  {
   "cell_type": "markdown",
   "metadata": {},
   "source": [
    "<!-- --- begin solution of exercise --- -->\n",
    "**Løsning.**"
   ]
  },
  {
   "cell_type": "code",
   "execution_count": 6,
   "metadata": {
    "collapsed": false
   },
   "outputs": [],
   "source": [
    "r = np.linspace(0.1, 0.4, 9) # mm\n",
    "r = r*1e-3 # mm\n",
    "eta = 0.0025 #Pa s\n",
    "dp = 0.015 # Pa\n",
    "l = 0.001 #m\n",
    "\n",
    "q_v = q(dp, eta, l, r) # Pas/m^3\n",
    "plt.plot(r*1e3, q_v)\n",
    "plt.xlabel('r (mm)')\n",
    "plt.ylabel(r'$q_v (m^3/s)$')"
   ]
  },
  {
   "cell_type": "markdown",
   "metadata": {},
   "source": [
    "<!-- --- end solution of exercise --- -->\n",
    "\n",
    "\n",
    "<!-- Setter vi sammen likning 1 og 2, får vi følgende uttrykk for blodstrømmen: -->\n",
    "<!--  -->\n",
    "<!-- !bt -->\n",
    "<!-- \\begin{equation} -->\n",
    "<!-- q_v = \\frac{\\pi r^4 \\Delta p}{8 \\eta l}. -->\n",
    "<!-- \\end{equation} -->\n",
    "<!-- !et -->\n",
    "\n",
    "<!-- I kodecella under har vi laget en funksjon som gir blodstrømmen som funksjon av -->\n",
    "<!-- blodtrykk, -->\n",
    "<!--  -->\n",
    "<!--  -->\n",
    "<!-- import numpy as np -->\n",
    "<!-- from __future__ import division -->\n",
    "<!-- from ipywidgets import widgets, fixed -->\n",
    "<!-- import pylab -->\n",
    "<!--  -->\n",
    "<!-- def flow(delta_p, eta, r, l): -->\n",
    "<!-- q_v = (np.pi*r**4*delta_p)/(8*eta*l) -->\n",
    "<!-- return q_v -->\n",
    "<!--  -->\n",
    "<!-- slider = widgets.interact(flow, -->\n",
    "<!-- delta_p=widgets.IntSlider(min=0., max=10., step=0.1, value=1.), -->\n",
    "<!-- eta=widgets.IntSlider(min=0., max=10., step=0.1, value=1.), -->\n",
    "<!-- r=widgets.IntSlider(min=0., max=10., step=0.1, value=1.), -->\n",
    "<!-- l=widgets.IntSlider(min=0., max=10., step=0.1, value=1.) -->\n",
    "<!-- ) -->\n",
    "<!-- --- end exercise --- -->"
   ]
  }
 ],
 "metadata": {},
 "nbformat": 4,
 "nbformat_minor": 2
}
