{
 "cells": [
  {
   "cell_type": "markdown",
   "metadata": {},
   "source": [
    "<!-- dom:TITLE: Beregningsoppgave 1: Sirkulasjon -->\n",
    "# Beregningsoppgave 1: Sirkulasjon\n",
    "<!-- AUTHOR: Solveig Næss -->\n",
    "\n",
    "<!-- DATE: today -->\n",
    "\n",
    "<!-- TOC: on -->"
   ]
  },
  {
   "cell_type": "markdown",
   "metadata": {},
   "source": [
    "\n"
   ]
  },
  {
   "cell_type": "markdown",
   "metadata": {},
   "source": [
    "<div class=\"alert alert-block alert-info\">\n",
    "Denne oppgaven skal leveres i grupper på to.\n",
    "Start med å lage en kopi av denne fila: Trykk på File; Make a copy.\n",
    "\n",
    "Endre deretter navnet på kopien til: EtternavnFornavn_EtternavnFornavn_beregning1.ipynb. \n",
    "Dersom dere heter Harry Potter og Isaac Newton, skal filnavnet altså være: PotterHarry_NewtonIsaac_beregning1.ipynb\n",
    "\n",
    "Denne fila skal leveres på CANVAS under Beregning1: Sirkulasjon.\n",
    "Leveringsfristen er 20.02, klokka 23.59.\n",
    "\n",
    "For å få oppgaven godkjent må dere svare på oppgave 1 og 2 + oppgave 3 ELLER 4."
   ]
  },
  {
   "cell_type": "markdown",
   "metadata": {},
   "source": [
    "\n"
   ]
  },
  {
   "cell_type": "markdown",
   "metadata": {},
   "source": [
    "**Etter at dere har gjort denne oppgaven skal dere kunne forklare**\n",
    "* sammenhengen mellom blodstrøm, blodtrykksendring og motstand i en blodåre\n",
    "\n",
    "* hvordan viskositet, lengde og radius påvirker blodstrøm og blodtrykksendringen i en blodåre\n",
    "\n",
    "\n",
    "\n",
    "\n",
    "\n",
    "<!-- --- begin exercise --- -->\n",
    "\n",
    "## Exercise 1: Blodstrøm, blodtrykksendring og motstand\n",
    "<div id=\"ex:flow\"></div>\n",
    "\n",
    "I kapittel 47 kan dere lese om hvordan blodstrøm i en blodåre er avhengig av\n",
    "blodtrykksendring og motstand i åren. Dette kan beskrives av\n",
    "Pouiseuille-likningen:"
   ]
  },
  {
   "cell_type": "markdown",
   "metadata": {},
   "source": [
    "<!-- Equation labels as ordinary links -->\n",
    "<div id=\"eq:flow\"></div>\n",
    "\n",
    "$$\n",
    "\\begin{equation} \\label{eq:flow} \\tag{1}\n",
    "q_v = \\frac{\\Delta p}{R},\n",
    "\\end{equation}\n",
    "$$"
   ]
  },
  {
   "cell_type": "markdown",
   "metadata": {},
   "source": [
    "* $q_v$ er blodets volumstrøm (blodstrøm eller flow) og måles i kubikkmeter per sekund ($\\mathrm{m^3/s}$) eller liter per minutt ($\\mathrm{l/min}$).\n",
    "\n",
    "* $\\Delta p$ er blodtrykksendringen i åren og måles i pascal ($\\mathrm{Pa}$) eller millimeter kvikksølv ($\\mathrm{mmHg}$).\n",
    "\n",
    "* $R$ er motstanden i blodåren og måles i $\\mathrm{Pa \\cdot s/m^3}$ eller $\\mathrm{mmHg \\cdot min/l}$.\n",
    "\n",
    "**a)**\n",
    "Bruk formelen over og diskuter to og to:\n",
    "* Hva vil skje med blodstrømmen dersom blodtrykksendringen øker?\n",
    "\n",
    "* Hva vil skje med blodstrømmen dersom motstanden i blodåren øker?\n",
    "\n",
    "<div class=\"alert alert-block alert-info\">\n",
    "I resten av denne oppgaven skal dere bruke kodecellen (den grå boksen) nedenfor\n",
    "til å svare på spørsmålene.\n",
    "* Kan dere finne den kodelinjen der blodstrømmen regnes ut?\n",
    "\n",
    "* For å kjøre programmet i kodecellen kan dere trykke på cellen slik at den får en grønn ramme. Trykk deretter shift+enter eller velg \"Run\" (play) i menyen øverst på siden."
   ]
  },
  {
   "cell_type": "code",
   "execution_count": 4,
   "metadata": {
    "collapsed": false
   },
   "outputs": [
    {
     "data": {
      "image/png": "[encoded data removed]",
      "text/plain": [
       "<matplotlib.figure.Figure at 0x113a4f4a8>"
      ]
     },
     "metadata": {},
     "output_type": "display_data"
    }
   ],
   "source": [
    "from ipywidgets import widgets, fixed\n",
    "from pylab import *\n",
    "\n",
    "def flow(R):\n",
    "    delta_p = array([80, 90, 100, 110, 120, 130, 140])\n",
    "    q_v = delta_p/R\n",
    "    plot(delta_p, q_v)\n",
    "    xlabel(r'$\\Delta p  (mmHg)$', fontsize=20)\n",
    "    ylabel(r'$q_v  (l/min)$', fontsize=20)\n",
    "    ylim([0.08, 8])\n",
    "    show()\n",
    "\n",
    "slider = widgets.interact(flow,\n",
    "                          R=widgets.IntSlider(description='R (mmHg min/l)', min=20., max=100., step=10., value=20.)\n",
    "                          )"
   ]
  },
  {
   "cell_type": "markdown",
   "metadata": {},
   "source": [
    "**b)**\n",
    "Hvordan endres blodstrømmen når blodtrykksendringen i blodåren øker? Bruk grafen.\n",
    "(Skriv svaret under ved å dobbeltklikke på \"Svar:\".)"
   ]
  },
  {
   "cell_type": "markdown",
   "metadata": {},
   "source": [
    "        Svar:\n"
   ]
  },
  {
   "cell_type": "markdown",
   "metadata": {},
   "source": [
    "\n",
    "**c)**\n",
    "Hvordan endres blodstrømmen dersom motstanden i blodåren øker?\n",
    "Dere kan endre på motstanden $R$ ved å bevege slideren over plottet."
   ]
  },
  {
   "cell_type": "markdown",
   "metadata": {},
   "source": [
    "        Svar:\n"
   ]
  },
  {
   "cell_type": "markdown",
   "metadata": {},
   "source": [
    "\n",
    "\n",
    "Stemte dette overens med det dere kom fram til i Oppgave 1a?\n",
    "\n",
    "<!-- --- end exercise --- -->\n",
    "\n",
    "\n",
    "\n",
    "\n",
    "<!-- --- begin exercise --- -->\n",
    "\n",
    "## Exercise 2: Hva påvirker blodårens motstand?\n",
    "\n",
    "Under har vi en formel som beskriver hvordan motstanden mot blodstrøm i åren\n",
    "avhenger av ulike parametere."
   ]
  },
  {
   "cell_type": "markdown",
   "metadata": {},
   "source": [
    "<!-- Equation labels as ordinary links -->\n",
    "<div id=\"eq:R\"></div>\n",
    "\n",
    "$$\n",
    "\\begin{equation} \\label{eq:R} \\tag{2}\n",
    "R = \\frac{8 \\eta l}{\\pi r^4},\n",
    "\\end{equation}\n",
    "$$"
   ]
  },
  {
   "cell_type": "markdown",
   "metadata": {},
   "source": [
    "der $\\eta$ (gresk: eta) er blodets viskositet, $l$ er blodårens lengde og $r$ er blodårens radius.\n",
    "\n",
    "\n",
    "**a)**\n",
    "Vil en dobling av\n",
    "* viskositeten,\n",
    "\n",
    "* lengden\n",
    "\n",
    "* eller radien\n",
    "\n",
    "gi størst endring i blodårens motstand $R$?"
   ]
  },
  {
   "cell_type": "markdown",
   "metadata": {},
   "source": [
    "        Svar:\n"
   ]
  },
  {
   "cell_type": "markdown",
   "metadata": {},
   "source": [
    "\n",
    "\n",
    "\n",
    "<div class=\"alert alert-block alert-info\">\n",
    "Kjør kodecellen nedenfor.\n",
    "\n",
    "Koden bruker følgende enheter:\n",
    "\n",
    "$[\\eta] = \\mathrm{m Pa ~ s}$\n",
    "\n",
    "$[l] = \\mathrm{mm}$\n",
    "\n",
    "$[r] = \\mathrm{mm}$\n",
    "\n",
    "$[R] = \\mathrm{mmHg ~ min/l}$"
   ]
  },
  {
   "cell_type": "code",
   "execution_count": 2,
   "metadata": {
    "collapsed": false
   },
   "outputs": [],
   "source": [
    "def resistance(eta, r, l):\n",
    "    c_1 = 1e-3 #from mPa to Pa\n",
    "    eta *= c_1\n",
    "    c_2 = 1e-3 #from mm to m\n",
    "    l *= c_2\n",
    "    r *= c_2\n",
    "    R = (8*eta*l)/(pi*(r)**4)\n",
    "    c_3 = 760.*1e-3/(101.325*1e3*60) #from Pa s/m^3 to mmHG min/l\n",
    "    R *= c_3\n",
    "    print('R (mmHg min/l) : ')\n",
    "    return R\n",
    "\n",
    "slider = widgets.interact(resistance,\n",
    "                          eta=widgets.FloatSlider(description='$\\eta$ (mPas)', min=2., max=4., step=0.1, value=2.5),\n",
    "                          r=widgets.FloatSlider(description='l (mm)', min=0.1, max=10., step=0.1, value=0.3),\n",
    "                          l=widgets.FloatSlider(description='r (mm)', min=1., max=300., step=1., value=100.)\n",
    "                         )"
   ]
  },
  {
   "cell_type": "markdown",
   "metadata": {},
   "source": [
    "**b)**\n",
    "Stemte hypotesen deres i oppgave a? Bruk sliderne og test."
   ]
  },
  {
   "cell_type": "markdown",
   "metadata": {},
   "source": [
    "        Svar:\n"
   ]
  },
  {
   "cell_type": "markdown",
   "metadata": {},
   "source": [
    "\n",
    "\n",
    "**c)**\n",
    "Vil det være størst motstand mot blodstrøm i aorta eller en tynn arteriole?"
   ]
  },
  {
   "cell_type": "markdown",
   "metadata": {},
   "source": [
    "        Svar:\n"
   ]
  },
  {
   "cell_type": "markdown",
   "metadata": {},
   "source": [
    "\n",
    "\n",
    "**d)**\n",
    "I kroppen er to av variablene $\\eta$, $l$ og $r$ relativt konstante.\n",
    "Én av variablene reguleres i kroppen for å øke blodstrømmen, hvilken variabel er\n",
    " dette?"
   ]
  },
  {
   "cell_type": "markdown",
   "metadata": {},
   "source": [
    "        Svar:\n"
   ]
  },
  {
   "cell_type": "markdown",
   "metadata": {},
   "source": [
    "\n",
    "**e)**\n",
    "Se på denne videoen: \"https://www.youtube.com/watch?v=4WvnjCkLbvY\".\n",
    "Hva tror du skjer med blodstrømmen til et dyr som blir bitt av en Russels huggorm?"
   ]
  },
  {
   "cell_type": "markdown",
   "metadata": {},
   "source": [
    "        Svar:\n"
   ]
  },
  {
   "cell_type": "markdown",
   "metadata": {},
   "source": [
    "\n",
    "<div class=\"alert alert-block alert-info\">\n",
    "Velg enten oppgave 3 eller oppgave 4."
   ]
  },
  {
   "cell_type": "markdown",
   "metadata": {},
   "source": [
    "\n"
   ]
  },
  {
   "cell_type": "markdown",
   "metadata": {},
   "source": [
    "<!-- --- end exercise --- -->\n",
    "\n",
    "\n",
    "\n",
    "\n",
    "<!-- --- begin exercise --- -->\n",
    "\n",
    "## Exercise 3: Sant eller usant?\n",
    "\n",
    "Bruk likningene og pythonprogrammene ovenfor til å avgjøre om følgende påstander\n",
    "er sanne eller usanne.\n",
    "\n",
    "\n",
    "**a)**\n",
    "En blodåre har konstant viskositet, radius og lengde.\n",
    "Hvis blodstrømmen minker, vil blodtrykksendringen i blodåren øke."
   ]
  },
  {
   "cell_type": "markdown",
   "metadata": {},
   "source": [
    "        Svar:\n"
   ]
  },
  {
   "cell_type": "markdown",
   "metadata": {},
   "source": [
    "\n",
    "\n",
    "**b)**\n",
    "Hvis viskositeten til blodet minker vil blodtrykket minke når blodstrøm,\n",
    "radius og lengde i blodåren er konstant."
   ]
  },
  {
   "cell_type": "markdown",
   "metadata": {},
   "source": [
    "        Svar:\n"
   ]
  },
  {
   "cell_type": "markdown",
   "metadata": {},
   "source": [
    "\n",
    "\n",
    "**c)**\n",
    "Hvis radien i en blodåre dobles, blodtrykksendringen halveres, viskositeten dobles,\n",
    "og blodårens lengde er konstant vil blodstrømmen firedobles."
   ]
  },
  {
   "cell_type": "markdown",
   "metadata": {},
   "source": [
    "        Svar:\n"
   ]
  },
  {
   "cell_type": "markdown",
   "metadata": {},
   "source": [
    "\n",
    "\n",
    "<!-- --- end exercise --- -->\n",
    "\n",
    "\n",
    "\n",
    "\n",
    "<!-- --- begin exercise --- -->\n",
    "\n",
    "## Exercise 4: Lag en egen pythonfunksjon\n",
    "\n",
    "I denne oppgaven skal dere bruke likningene og oppgavene over til å lage en\n",
    "pythonfunksjon som tar blodstrøm, viskositet, radius og lengde som argumenter,\n",
    "og regner ut blodtrykksendringen.\n",
    "\n",
    "\n",
    "**a)**\n",
    "Bruk formel 1 og 2, og finn formelen for blodtrykksendring som funksjon av\n",
    "blodstrøm, viskositet, lengde og radius."
   ]
  },
  {
   "cell_type": "markdown",
   "metadata": {},
   "source": [
    "        Svar:\n"
   ]
  },
  {
   "cell_type": "markdown",
   "metadata": {},
   "source": [
    "\n",
    "**b)**\n",
    "Lag en pythonfunksjon som tar blodtrykksendring, viskositet, radius og\n",
    "lengde som argumenter, og regner ut blodstrømmen."
   ]
  },
  {
   "cell_type": "code",
   "execution_count": 3,
   "metadata": {
    "collapsed": false
   },
   "outputs": [],
   "source": [
    "# skriv funksjonen din her:\n",
    "def"
   ]
  },
  {
   "cell_type": "markdown",
   "metadata": {},
   "source": [
    "\n",
    "**c)**\n",
    "Bruk funksjonen du lagde i forrige oppgave til å plotte blodstrømmen som\n",
    "funksjon av radius for en arteriole. Sett $\\Delta p = 0.015 Pa$,\n",
    "$\\eta = 0.0025 \\mathrm{Pa s}$, $l = 0.001 \\mathrm{m}$ og la $r$ gå fra $0.1$ til\n",
    "$0.4 \\mathrm{mm}$ som tilsvarer $0.0001 - 0.0004\\mathrm{m}$.\n",
    "Husk å skrive enheter på aksene."
   ]
  },
  {
   "cell_type": "code",
   "execution_count": 5,
   "metadata": {
    "collapsed": false
   },
   "outputs": [],
   "source": [
    "# plott blodstrøm på y-aksen, radius på x-aksen"
   ]
  },
  {
   "cell_type": "markdown",
   "metadata": {},
   "source": [
    "\n",
    "\n",
    "<!-- Setter vi sammen likning 1 og 2, får vi følgende uttrykk for blodstrømmen: -->\n",
    "<!--  -->\n",
    "<!-- !bt -->\n",
    "<!-- \\begin{equation} -->\n",
    "<!-- q_v = \\frac{\\pi r^4 \\Delta p}{8 \\eta l}. -->\n",
    "<!-- \\end{equation} -->\n",
    "<!-- !et -->\n",
    "\n",
    "<!-- I kodecella under har vi laget en funksjon som gir blodstrømmen som funksjon av -->\n",
    "<!-- blodtrykk, -->\n",
    "<!--  -->\n",
    "<!--  -->\n",
    "<!-- import numpy as np -->\n",
    "<!-- from __future__ import division -->\n",
    "<!-- from ipywidgets import widgets, fixed -->\n",
    "<!-- import pylab -->\n",
    "<!--  -->\n",
    "<!-- def flow(delta_p, eta, r, l): -->\n",
    "<!-- q_v = (np.pi*r**4*delta_p)/(8*eta*l) -->\n",
    "<!-- return q_v -->\n",
    "<!--  -->\n",
    "<!-- slider = widgets.interact(flow, -->\n",
    "<!-- delta_p=widgets.IntSlider(min=0., max=10., step=0.1, value=1.), -->\n",
    "<!-- eta=widgets.IntSlider(min=0., max=10., step=0.1, value=1.), -->\n",
    "<!-- r=widgets.IntSlider(min=0., max=10., step=0.1, value=1.), -->\n",
    "<!-- l=widgets.IntSlider(min=0., max=10., step=0.1, value=1.) -->\n",
    "<!-- ) -->\n",
    "<!-- --- end exercise --- -->"
   ]
  }
 ],
 "metadata": {
  "kernelspec": {
   "display_name": "Python 3",
   "language": "python",
   "name": "python3"
  },
  "language_info": {
   "codemirror_mode": {
    "name": "ipython",
    "version": 3
   },
   "file_extension": ".py",
   "mimetype": "text/x-python",
   "name": "python",
   "nbconvert_exporter": "python",
   "pygments_lexer": "ipython3",
   "version": "3.6.0"
  },
  "widgets": {
   "state": {
    "defbd179128445beb06bd515a6bcaafa": {
     "views": [
      {
       "cell_index": 7
      }
     ]
    }
   },
   "version": "1.2.0"
  }
 },
 "nbformat": 4,
 "nbformat_minor": 2
}
