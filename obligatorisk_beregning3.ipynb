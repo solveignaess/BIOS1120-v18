{
 "cells": [
  {
   "cell_type": "markdown",
   "metadata": {},
   "source": [
    "<!-- dom:TITLE: Beregningsoppgave 3: Hørsel -->\n",
    "# Beregningsoppgave 3: Hørsel\n",
    "<!-- AUTHOR: Solveig Næss -->\n",
    "\n",
    "<!-- DATE: today -->\n",
    "\n",
    "<!-- TOC: on -->\n",
    "<div class=\"alert alert-block alert-info\">\n",
    "Denne beregningsoppgaven skal leveres i grupper på to.\n",
    "Start med å lage en kopi av denne fila: Trykk på File; Make a copy.\n",
    "\n",
    "Endre deretter navnet på kopien til: EtternavnFornavn_EtternavnFornavn_beregning3.ipynb.\n",
    "\n",
    "Denne fila skal leveres på CANVAS: Finn Beregningsoppgave 3 under Sansefysiologi.\n",
    "Leveringsfristen er tirsdag 24.04, klokka 10.00."
   ]
  },
  {
   "cell_type": "markdown",
   "metadata": {},
   "source": [
    "\n"
   ]
  },
  {
   "cell_type": "markdown",
   "metadata": {},
   "source": [
    "<!-- --- begin exercise --- -->\n",
    "\n",
    "## Oppgave 1: Lydoverføring fra luft til vann\n",
    "\n",
    "<!-- dom:FIGURE: [./figurer/HumanEar_norsk.png, height=400 width=600 frac=0.8] -->\n",
    "<!-- begin figure -->\n",
    "\n",
    "<p></p>\n",
    "<img src=\"./figurer/HumanEar_norsk.png\" height=400 width=600>\n",
    "\n",
    "<!-- end figure -->\n",
    "\n",
    "\n",
    "Når lyd får lufta i øregangen til å vibrere, vil det bli en trykkforskjell\n",
    "mellom lufta i øregangen og trommehulen. Denne trykkforskjellen får\n",
    "trommehinnen til å vibrere i takt med lydbølgene. Videre skal dette lydtrykket\n",
    "overføres fra lufta i øregangen til væsken i det indre øret.\n",
    "\n",
    "Når lydbølger brer seg fra et medium til et annet, vil noe av lyden bli\n",
    "reflektert, mens noe vil overføres til det andre mediet.\n",
    "Dette er fordi ulike medier har ulik **akustisk impedans**.\n",
    "Akustisk impedans ($Z$) sier noe om hvor lett lydbølger ledes i et medium,\n",
    "og er avhengig av blant annet lydhastigheten i mediet ($v$), og mediets tetthet ($\\rho$):\n",
    "\n",
    "$Z = \\rho \\cdot v$\n",
    "\n",
    "**Tabell med omtrentlige verdier for mediers lydfart og tetthet**\n",
    "<table border=\"1\">\n",
    "<thead>\n",
    "<tr><th align=\"center\">                      </th> <th align=\"center\">lydfart (m/s)</th> <th align=\"center\">tetthet (kg$/\\mathrm{m^3}$)</th> <th align=\"center\">akustisk impedans (kg$/(\\mathrm{m^2}s)$)</th> </tr>\n",
    "</thead>\n",
    "<tbody>\n",
    "<tr><td align=\"center\">   luft                      </td> <td align=\"center\">   330              </td> <td align=\"center\">   1.3                            </td> <td align=\"center\">   429                                         </td> </tr>\n",
    "<tr><td align=\"center\">   vann                      </td> <td align=\"center\">   1500             </td> <td align=\"center\">   1000                           </td> <td align=\"center\">   1500000                                     </td> </tr>\n",
    "<tr><td align=\"center\">   blod                      </td> <td align=\"center\">   1570             </td> <td align=\"center\">   1060                           </td> <td align=\"center\">   1660000                                     </td> </tr>\n",
    "<tr><td align=\"center\">   fett                      </td> <td align=\"center\">   1450             </td> <td align=\"center\">   925                            </td> <td align=\"center\">   1340000                                     </td> </tr>\n",
    "<tr><td align=\"center\">   muskler (gjennomsnitt)    </td> <td align=\"center\">   1590             </td> <td align=\"center\">   1075                           </td> <td align=\"center\">   1700000                                     </td> </tr>\n",
    "<tr><td align=\"center\">   bein                      </td> <td align=\"center\">   4080             </td> <td align=\"center\">   1400-1900                      </td> <td align=\"center\">   5700000 - 7800000                           </td> </tr>\n",
    "</tbody>\n",
    "</table>\n",
    "\n",
    "I kodecella under har vi laget en funksjon som regner ut hvor mye lydintensitet\n",
    "$I_2$ som overføres når lyd går fra et medium med akustisk impedans\n",
    "$Z_1$ til et medium med akustisk impedans $Z_2$."
   ]
  },
  {
   "cell_type": "code",
   "execution_count": 1,
   "metadata": {
    "collapsed": false
   },
   "outputs": [],
   "source": [
    "from ipywidgets import widgets, fixed\n",
    "\n",
    "def I_trans(I_1, Z_1, Z_2):\n",
    "    I_2 = 4*Z_1*Z_2/(Z_1 + Z_2)**2*I_1\n",
    "    print('Lydintensitet 2 (W/m^2):', I_2)\n",
    "    return I_2\n",
    "\n",
    "slider = widgets.interact(I_trans,\n",
    "                  I_1=widgets.FloatSlider(description='Lydintensitet 1 ($W/m^2$)',min=0.01,max=1e3,step=0.01,value=1.),\n",
    "                  Z_1=widgets.IntSlider(description='Impedans 1 ($kg/m^2 s$)',min=400,max=7.8*1e8,step=10,value=1),\n",
    "                  Z_2=widgets.IntSlider(description='Impedans 2 ($kg/m^2 s$)',min=400,max=7.8*1e8,step=10,value=1)\n",
    "                  )"
   ]
  },
  {
   "cell_type": "markdown",
   "metadata": {},
   "source": [
    "**a)**\n",
    "Se for deg at vi ikke hadde hatt noe mellomøre, men at trommehinna hadde vært det eneste som skilte lufta\n",
    "i den ytre øregangen fra væsken i det indre øret. Anta at et slikt øre hadde opplevd en lydintensitet i øregangen på $I_1 = 0.1 W/m^2s$.\n",
    "Hvor sterk lydintensitet hadde da blitt overført til det indre øret? Anta at væsken i det indre øret har samme akustiske impedans som vann.\n",
    "Kjør kodecella over, bruk tabellen og sliderne."
   ]
  },
  {
   "cell_type": "markdown",
   "metadata": {},
   "source": [
    "        Svar:\n"
   ]
  },
  {
   "cell_type": "markdown",
   "metadata": {},
   "source": [
    "\n",
    "**b)**\n",
    "Hvor mange prosent av lydintensiteten blir overført fra luft til vann?"
   ]
  },
  {
   "cell_type": "markdown",
   "metadata": {},
   "source": [
    "        Svar:\n"
   ]
  },
  {
   "cell_type": "markdown",
   "metadata": {},
   "source": [
    "\n",
    "**c)**\n",
    "Bruk koden under til å regne ut hvor mange desibel denne lydintensitetsforskjellen tilsvarer, ved å sette inn tallene for I_fluid og I_air fra deloppgavene over."
   ]
  },
  {
   "cell_type": "code",
   "execution_count": 4,
   "metadata": {
    "collapsed": false
   },
   "outputs": [],
   "source": [
    "def intensities_to_dB(I0, I1):\n",
    "    L = 10*log10(I1/I0)\n",
    "    return L\n",
    "\n",
    "I_air = # sett inn tall\n",
    "I_fluid = #sett inn tall\n",
    "L = intensities_to_dB(I_air, I_fluid)\n",
    "print('Når lydintensiteten endres fra', I_air, 'til', round(I_fluid, 5), 'W/m^2, \\n'\n",
    "      'utgjør dette en forskjell i lydintensitetsnivå på', round(L,1), 'dB.')"
   ]
  },
  {
   "cell_type": "markdown",
   "metadata": {},
   "source": [
    "\n",
    "<!-- --- end exercise --- -->\n",
    "\n",
    "\n",
    "\n",
    "\n",
    "<!-- --- begin exercise --- -->\n",
    "\n",
    "## Oppgave 2: Mellomøret og sammenhengen mellom trykk, kraft og areal\n",
    "\n",
    "\n",
    "**a)**\n",
    "(Denne oppgaven skal ikke besvares skriftlig, kun diskuteres muntlig.)\n",
    "For en repetisjon på hvordan mellomøret fungerer, gå inn på denne linken [https://www.amplifon.com/web/uk/interactive-ear/index.html](https://www.amplifon.com/web/uk/interactive-ear/index.html).\n",
    "* Trykk på \"+\"  i hvit sirkel på venstre side\n",
    "\n",
    "* Se på lydens vei gjennom øret\n",
    "\n",
    "* Kan dere finne trommehinnen, hammeren, ambolten og stigbøylen?\n",
    "\n",
    "* Det ovale vinduet synes ikke i animasjonen, hvor ligger denne membranen?\n",
    "\n",
    "**b)**\n",
    "I oppgave 1 fant vi at dersom vi ikke hadde hatt noe mellomøre, men kun en membran som skilte lufta i øregangen fra væsken i det indre øret, ville lydintensiteten blitt redusert betraktelig i overgangen fra luft til vann.\n",
    "\n",
    "Nå skal vi se på hva mellomøret gjør for å øke lydtrykket og dermed redusere tap av lydintensitet fra øregangen til det indre øret.\n",
    "\n",
    "Pga knoklene i mellomøret vil kraften fra lufta på trommehinna bli overført til det ovale vinduet. Fra fysikken vet vi at trykk er kraft per areal, og at det er trykket som bestemmer hvor mye lydintensitet som blir overført."
   ]
  },
  {
   "cell_type": "markdown",
   "metadata": {},
   "source": [
    "<!-- Equation labels as ordinary links -->\n",
    "<div id=\"eq:kraft_trykk\"></div>\n",
    "\n",
    "$$\n",
    "\\label{eq:kraft_trykk} \\tag{1}\n",
    "p = \\frac{F}{A},\n",
    "$$"
   ]
  },
  {
   "cell_type": "markdown",
   "metadata": {},
   "source": [
    "der $F$ er kraft, $p$ er trykk og $A$ er areal.\n",
    "\n",
    "\n",
    "\n",
    "Vi har en kraft som virker på en membran. Vil trykket på membranen bli høyere eller lavere, dersom vi minker arealet til membranen? Forklar ved hjelp av likningen, eller bruk sliderne under:"
   ]
  },
  {
   "cell_type": "code",
   "execution_count": 6,
   "metadata": {
    "collapsed": false
   },
   "outputs": [],
   "source": [
    "def pressure(F,A):\n",
    "    # gjør om areal fra mm^2 til m^2\n",
    "    A = A*10**-6\n",
    "    p = F/A\n",
    "    # gjør om trykk fra Pa til kPa\n",
    "    p = p*10**-3\n",
    "    print('Trykk (kPa)')\n",
    "    return p\n",
    "slider = widgets.interact(pressure,\n",
    "                          F=widgets.IntSlider(description='Kraft F (N)',min=1,max=10,step=1,value=2),\n",
    "                          A=widgets.IntSlider(description='Areal A ($mm^2$)',min=1,max=100,step=1,value=50)\n",
    "                          )"
   ]
  },
  {
   "cell_type": "markdown",
   "metadata": {},
   "source": [
    "        Svar:\n"
   ]
  },
  {
   "cell_type": "markdown",
   "metadata": {},
   "source": [
    "\n",
    "**c)**\n",
    "Knoklene i mellomøret overfører kraften på trommehinna til det ovale vinduet. Kraften som virker på det ovale vinduet vil være ca like stor som kraften som virker på trommehinna. Vil trykket på trommehinna eller det ovale vinduet være størst? Hvorfor?"
   ]
  },
  {
   "cell_type": "markdown",
   "metadata": {},
   "source": [
    "        Svar:\n"
   ]
  },
  {
   "cell_type": "markdown",
   "metadata": {},
   "source": [
    "\n",
    "\n",
    "<!-- --- end exercise --- -->\n",
    "\n",
    "\n",
    "\n",
    "\n",
    "<!-- --- begin exercise --- -->\n",
    "\n",
    "## Oppgave 3: Hvordan kan mellomøret forbedre trykkoverføringen fra luft til vann?\n",
    "\n",
    "<div class=\"alert alert-block alert-info\">\n",
    "Kjør kodecellen under."
   ]
  },
  {
   "cell_type": "code",
   "execution_count": 7,
   "metadata": {
    "collapsed": false
   },
   "outputs": [],
   "source": [
    "%matplotlib inline\n",
    "\n",
    "from pylab import *\n",
    "from ipywidgets import widgets, fixed\n",
    "from matplotlib.patches import Ellipse, Arrow\n",
    "\n",
    "def area_to_radius(A):\n",
    "    r = sqrt(A/(4*pi))\n",
    "    return r\n",
    "\n",
    "def area_to_ellipse_radii(A):\n",
    "    a = sqrt(3*A/pi)\n",
    "    b = 1./3*a\n",
    "    return a,b\n",
    "\n",
    "def plot_middle_ear(A_trommehinne,\n",
    "                    A_ovalt_vindu):\n",
    "\n",
    "    r_trommehinne, b_trommehinne = area_to_ellipse_radii(A_trommehinne)\n",
    "    r_ovalt_vindu, b_ovalt_vindu = area_to_ellipse_radii(A_ovalt_vindu)\n",
    "\n",
    "    l_hammer = 1.\n",
    "    l_ambolt = 1.\n",
    "\n",
    "    fig = figure(figsize=(20,20))\n",
    "    ax1 = subplot(221, xlim=[-10, 10], ylim = [-10, 13])\n",
    "    x_trommehinne = -5\n",
    "    x_lever = x_trommehinne + b_trommehinne + 1\n",
    "    x_hammer = x_lever - 0.1\n",
    "    x_ambolt = x_lever + 0.1\n",
    "    x_ovalt_vindu = x_ambolt + b_ovalt_vindu + 1\n",
    "\n",
    "    y_trommehinne = 0\n",
    "    y_lever = y_trommehinne - 2\n",
    "    y_hammer = y_trommehinne\n",
    "    y_ambolt = y_hammer + l_hammer - l_ambolt\n",
    "    y_ovalt_vindu = y_ambolt\n",
    "\n",
    "#    trommehinne = Circle((x_trommehinne,y_trommehinne), r_trommehinne, color = 'blue', label='areal trommehinne')\n",
    "#    ovalt_vindu = Circle((x_ovalt_vindu, y_ovalt_vindu), r_ovalt_vindu, color = 'green', label='areal  ovalt vindu')\n",
    "\n",
    "    trommehinne = Ellipse((x_trommehinne,y_trommehinne), 2*b_trommehinne, 2*r_trommehinne, color = 'blue')\n",
    "    ovalt_vindu = Ellipse((x_ovalt_vindu,y_ovalt_vindu), 2*b_ovalt_vindu, 2*r_ovalt_vindu, color = 'green')\n",
    "\n",
    "    dx_hammer = x_hammer - x_trommehinne - b_trommehinne\n",
    "    arrow_hammer = Arrow(x_hammer - dx_hammer, y_trommehinne, dx_hammer, 0, color = 'blue', width=.5)\n",
    "    dx_ambolt = x_ovalt_vindu - x_ambolt - b_ovalt_vindu\n",
    "    arrow_ambolt = Arrow(x_ambolt, y_ambolt, dx_ambolt, 0, color='green', width=.5)\n",
    "\n",
    "#    ax1.add_artist(trommehinne)\n",
    "#    ax1.add_artist(ovalt_vindu)\n",
    "    ax1.plot([x_trommehinne, x_trommehinne], [y_trommehinne + r_trommehinne, 13], 'k--', linewidth = 0.5)\n",
    "    ax1.plot([x_trommehinne, x_trommehinne], [-10, y_trommehinne - r_trommehinne], 'k--', linewidth = 0.5)\n",
    "    ax1.plot([x_ovalt_vindu, x_ovalt_vindu], [y_ovalt_vindu + r_ovalt_vindu, 13], 'k--', linewidth = 0.5)\n",
    "    ax1.plot([x_ovalt_vindu, x_ovalt_vindu], [-10, y_ovalt_vindu - r_ovalt_vindu], 'k--', linewidth = 0.5)\n",
    "    ax1.add_patch(trommehinne)\n",
    "    ax1.add_patch(ovalt_vindu)\n",
    "    ax1.add_patch(arrow_hammer)\n",
    "    ax1.add_patch(arrow_ambolt)\n",
    "    ax1.plot([x_hammer,x_hammer], [y_hammer,y_hammer + l_hammer], color='red', linewidth=3., label='hammer', zorder=10)\n",
    "    ax1.plot([x_ambolt,x_ambolt], [y_ambolt, y_ambolt + l_ambolt], color='orange', linewidth=3., label='ambolt')\n",
    "    ax1.plot([x_lever, x_lever], [y_hammer - 1, 1.5], 'k', linewidth = 0.5)\n",
    "    ax1.set_aspect('equal')\n",
    "    ax1.axis('off')\n",
    "    ax1.text(-8, 12.8, 'øregangen')\n",
    "    ax1.text(x_trommehinne+0.5, 12.8, 'mellomøret')\n",
    "    ax1.text(x_ovalt_vindu + 1, 12.8, 'det indre øret')\n",
    "    #ax1.legend()\n",
    "\n",
    "    show()\n",
    "\n",
    "\n",
    "def p(p_trommehinne,\n",
    "      A_trommehinne, A_ovalt_vindu):\n",
    "    p_ovalt_vindu = (A_trommehinne/A_ovalt_vindu)*p_trommehinne\n",
    "    print('Trykket på det ovale vindu = ', round(p_ovalt_vindu), 'kPa.')\n",
    "    plot_middle_ear(A_trommehinne,\n",
    "                    A_ovalt_vindu)\n",
    "    return p_ovalt_vindu\n",
    "\n",
    "slider = widgets.interact(p,\n",
    "                  p_trommehinne=widgets.IntSlider(description='$p_{trommehinne} (kPa)$',min=100,max=800,step=100,value=200),\n",
    "                  A_trommehinne=widgets.FloatSlider(description='$A_{trommehinne} (mm^2)$',min=1,max=100,step=0.5,value=10),\n",
    "                  A_ovalt_vindu=widgets.FloatSlider(description='$A_{ovalt~vindu} (mm^2)$',min=1,max=100,step=0.5,value=10),\n",
    "                  )"
   ]
  },
  {
   "cell_type": "markdown",
   "metadata": {},
   "source": [
    "Den blå og den grønne skiva representerer trommehinna og det ovale vinduet. Du kan endre arealene til de to membranene ved å bruke sliderne for $A_{trommehinne}$ og $A_{ovalt ~vindu}$ over.\n",
    "(Den røde streken viser vektarmen til hammeren, mens vektarmen til ambolten vises av den oransje streken. I virkeligheten er vektarmen til hammeren litt lenger enn vektarmen til ambolten, og dette vil gjøre trykkoverføringen mer effektiv.)\n",
    "\n",
    "\n",
    "**a)**\n",
    "Arealet til trommehinna er omtrent $70 ~\\mathrm{mm^2}$ og arealet til det ovale vinduet er ca $3.5 ~\\mathrm{mm^2}$. Hvor høyt blir trykket på det ovale vinduet sammenliknet med trykket på trommehinna? Gi svaret i prosent.\n",
    "(NB: Her har dere mulighet til å sjekke om dere konkluderte riktig i oppgave 2b og c.)"
   ]
  },
  {
   "cell_type": "markdown",
   "metadata": {},
   "source": [
    "        Svar:\n"
   ]
  },
  {
   "cell_type": "markdown",
   "metadata": {},
   "source": [
    "\n",
    "**b)**\n",
    "Hvor mange desibel utgjør trykkforskjellen som skapes av de ulike arealene til trommehinna og det ovale vinduet? Bruk kodecellen under."
   ]
  },
  {
   "cell_type": "code",
   "execution_count": 9,
   "metadata": {
    "collapsed": false
   },
   "outputs": [],
   "source": [
    "def pressures_to_dB(p0, p):\n",
    "    L = 20*log10(p/p0)\n",
    "    return L\n",
    "\n",
    "p_th = ? # sett inn tall\n",
    "p_ov = ? # sett inn tall\n",
    "L_økning_areal = pressures_to_dB(p_th, p_ov)\n",
    "print('Trykkøkningen gir en økning i lydintensitetsnivå på omtrent', round(L_økning_areal, 1), 'dB.')"
   ]
  },
  {
   "cell_type": "markdown",
   "metadata": {},
   "source": [
    "        Svar:\n"
   ]
  },
  {
   "cell_type": "markdown",
   "metadata": {},
   "source": [
    "\n",
    "**c)**\n",
    "Sammenlikne svaret i oppgave 3e med svaret i oppgave 2b, og diskuter følgende i gruppa (skal ikke besvares skriftlig.):\n",
    "* Hvorfor trenger mennesker mellomøret?\n",
    "\n",
    "* Hvorfor trenger ikke fisk mellomøret?\n",
    "\n",
    "* Hvilken rolle spiller trommehinnen og det ovale vinduets areal for lydoverføringen til det indre øret?\n",
    "\n",
    "<!-- --- end exercise --- -->"
   ]
  }
 ],
 "metadata": {},
 "nbformat": 4,
 "nbformat_minor": 2
}